{
 "cells": [
  {
   "cell_type": "markdown",
   "id": "restricted-mountain",
   "metadata": {},
   "source": [
    "Beginning after the matrix multiplication lesson, which has decent notes, but should take notes in a completely new Jupyter Notebook for better organization and retention.\n"
   ]
  },
  {
   "cell_type": "markdown",
   "id": "worse-greeting",
   "metadata": {},
   "source": [
    "# Forward Pass"
   ]
  },
  {
   "cell_type": "markdown",
   "id": "suited-desert",
   "metadata": {},
   "source": [
    "## Imports"
   ]
  },
  {
   "cell_type": "code",
   "execution_count": 1,
   "id": "specific-durham",
   "metadata": {},
   "outputs": [],
   "source": [
    "%load_ext autoreload\n",
    "%autoreload 2\n",
    "%matplotlib inline\n",
    "\n",
    "#export\n",
    "from exp.nb_01 import *\n",
    "\n",
    "def get_data():\n",
    "    import os\n",
    "    import torchvision.datasets as datasets\n",
    "    root = '../data'\n",
    "    if not os.path.exists(root):\n",
    "        os.mkdir(root)\n",
    "    train_set = datasets.MNIST(root=root, train=True, download=True)\n",
    "    test_set = datasets.MNIST(root=root, train=False, download=True)\n",
    "    x_train, x_valid = train_set.train_data.split([50000, 10000])\n",
    "    y_train, y_valid = train_set.train_labels.split([50000, 10000])\n",
    "    return (x_train.view(50000, -1) / 256.0), y_train.float(), (x_valid.view(10000, -1))/ 256.0, y_valid.float()\n",
    "\n",
    "# The geographic intuition for this is picturing x's around a horizontal line (mean), bring that mean down to 0,\n",
    "# then scale x's by dividing them by the standard deviation\n",
    "def normalize(x, mean, std): return (x-mean)/std"
   ]
  },
  {
   "cell_type": "code",
   "execution_count": 2,
   "id": "raised-lebanon",
   "metadata": {},
   "outputs": [
    {
     "name": "stderr",
     "output_type": "stream",
     "text": [
      "/opt/anaconda3/envs/snowflakes/lib/python3.8/site-packages/torchvision/datasets/mnist.py:58: UserWarning: train_data has been renamed data\n",
      "  warnings.warn(\"train_data has been renamed data\")\n",
      "/opt/anaconda3/envs/snowflakes/lib/python3.8/site-packages/torchvision/datasets/mnist.py:48: UserWarning: train_labels has been renamed targets\n",
      "  warnings.warn(\"train_labels has been renamed targets\")\n"
     ]
    }
   ],
   "source": [
    "x_train, y_train, x_valid, y_valid = get_data()"
   ]
  },
  {
   "cell_type": "code",
   "execution_count": 3,
   "id": "sixth-broadcast",
   "metadata": {},
   "outputs": [
    {
     "name": "stdout",
     "output_type": "stream",
     "text": [
      "Name: torchvision\n",
      "Version: 0.8.2\n",
      "Summary: image and video datasets and models for torch deep learning\n",
      "Home-page: https://github.com/pytorch/vision\n",
      "Author: PyTorch Core Team\n",
      "Author-email: soumith@pytorch.org\n",
      "License: BSD\n",
      "Location: /opt/anaconda3/envs/snowflakes/lib/python3.8/site-packages\n",
      "Requires: numpy, torch, pillow\n",
      "Required-by: fastai\n"
     ]
    }
   ],
   "source": [
    "!pip show torchvision"
   ]
  },
  {
   "cell_type": "markdown",
   "id": "alien-healing",
   "metadata": {},
   "source": [
    "## Normalization"
   ]
  },
  {
   "cell_type": "markdown",
   "id": "rental-cliff",
   "metadata": {},
   "source": [
    "- We want mean to be 0 and standard deviation to be 1 for easier convergence, so we normalize. \n",
    "- Notice how we use train_mean and train_std to normalize valid data as well - that's because we don't want validation dataset to be in a different scale"
   ]
  },
  {
   "cell_type": "code",
   "execution_count": null,
   "id": "graduate-stewart",
   "metadata": {},
   "outputs": [],
   "source": [
    "# before normalization\n",
    "train_mean, train_std = x_train.mean(), x_train.std()\n",
    "train_mean, train_std"
   ]
  },
  {
   "cell_type": "code",
   "execution_count": 7,
   "id": "weighted-living",
   "metadata": {},
   "outputs": [],
   "source": [
    "x_train = normalize(x_train, train_mean, train_std)\n",
    "x_valid = normalize(x_valid, train_mean, train_std)"
   ]
  },
  {
   "cell_type": "code",
   "execution_count": 9,
   "id": "controlled-speech",
   "metadata": {},
   "outputs": [
    {
     "data": {
      "text/plain": [
       "(tensor(3.9162e-08), tensor(1.))"
      ]
     },
     "execution_count": 9,
     "metadata": {},
     "output_type": "execute_result"
    }
   ],
   "source": [
    "# after normalization\n",
    "train_mean, train_std = x_train.mean(), x_train.std()\n",
    "train_mean, train_std"
   ]
  },
  {
   "cell_type": "code",
   "execution_count": 19,
   "id": "voluntary-brief",
   "metadata": {},
   "outputs": [],
   "source": [
    "def assert_is_near_zero(a, threshold=1e-3): assert a.abs() < threshold, f\"{a} is not near zero\"\n",
    "assert_is_near_zero(train_mean)"
   ]
  },
  {
   "cell_type": "markdown",
   "id": "collect-democrat",
   "metadata": {},
   "source": [
    "## Get shapes"
   ]
  },
  {
   "cell_type": "code",
   "execution_count": 23,
   "id": "partial-nature",
   "metadata": {},
   "outputs": [
    {
     "data": {
      "text/plain": [
       "(50000, 784, tensor(10.), 50)"
      ]
     },
     "execution_count": 23,
     "metadata": {},
     "output_type": "execute_result"
    }
   ],
   "source": [
    "num_samples, image_size = x_train.shape \n",
    "num_classes = y_train.max() + 1 \n",
    "nh = 50\n",
    "\n",
    "n = num_samples\n",
    "m = image_size\n",
    "c = num_classes\n",
    "\n",
    "n, m, c, nh"
   ]
  },
  {
   "cell_type": "markdown",
   "id": "equal-service",
   "metadata": {},
   "source": [
    "## Intialization"
   ]
  },
  {
   "cell_type": "markdown",
   "id": "pediatric-authority",
   "metadata": {},
   "source": [
    "- Initialization is *extremely* important. In 2019, they wrote a paper \"Fixup Initialization: Residual Learning Without Normalization\" in which they trained a 10,000 layer neural net WITHOUT normalization just by initializing everything carefully."
   ]
  },
  {
   "cell_type": "markdown",
   "id": "democratic-columbia",
   "metadata": {},
   "source": [
    "### Xavier Initialization\n",
    "\n",
    "- To perform Standard Xavier Initialization, you just divide input by the sqrt(num_input_units), which would give you a mean of 0, and standard deviation of 1 / sqrt(m)"
   ]
  },
  {
   "cell_type": "code",
   "execution_count": 82,
   "id": "lucky-monroe",
   "metadata": {},
   "outputs": [],
   "source": [
    "def lin(x, w, b): return x@w + b"
   ]
  },
  {
   "cell_type": "code",
   "execution_count": 83,
   "id": "mediterranean-nation",
   "metadata": {},
   "outputs": [
    {
     "data": {
      "text/plain": [
       "(tensor(-2.4185), tensor(29.1872))"
      ]
     },
     "execution_count": 83,
     "metadata": {},
     "output_type": "execute_result"
    }
   ],
   "source": [
    "# Forward pass without Initialization\n",
    "w1 = torch.randn(m, nh)\n",
    "b1 = torch.zeros(nh)\n",
    "\n",
    "t = lin(x_valid, w1, b1)\n",
    "t.mean(), t.std() # terrible, you want ~ (0,1) (mean,std)"
   ]
  },
  {
   "cell_type": "code",
   "execution_count": 84,
   "id": "weekly-hurricane",
   "metadata": {},
   "outputs": [
    {
     "data": {
      "text/plain": [
       "(tensor(0.0294), tensor(0.9735))"
      ]
     },
     "execution_count": 84,
     "metadata": {},
     "output_type": "execute_result"
    }
   ],
   "source": [
    "# Forward pass with Standard Xavier Init\n",
    "w1 = torch.randn(m, nh) * math.sqrt(1/m)\n",
    "b1 = torch.zeros(nh)\n",
    "\n",
    "t = lin(x_valid, w1, b1)\n",
    "t.mean(), t.std() # good"
   ]
  },
  {
   "cell_type": "code",
   "execution_count": 85,
   "id": "confused-privacy",
   "metadata": {},
   "outputs": [],
   "source": [
    "assert_is_near_zero(w1.mean())\n",
    "assert_is_near_zero(w1.std() - 1/math.sqrt(m))"
   ]
  },
  {
   "cell_type": "markdown",
   "id": "fourth-reverse",
   "metadata": {},
   "source": [
    "### Vanishing Activation/Gradient Problem\n",
    "\n",
    "- Remember after performing the matrix multiplication, you have to pass it through relu, but each time you do that, you cut all activation values that are below 0 to 0 and thereby reduces the standard deviation. If your network is very deep, your standard deviation will keep getting reduced (possibly down to 0)"
   ]
  },
  {
   "attachments": {
    "a3f59b8e-febb-4866-8494-d2338a2b0374.png": {
     "image/png": "[encoded data removed]"
    }
   },
   "cell_type": "markdown",
   "id": "jewish-arkansas",
   "metadata": {},
   "source": [
    "![Screen Shot 2021-03-02 at 9.20.03 PM.png](attachment:a3f59b8e-febb-4866-8494-d2338a2b0374.png)"
   ]
  },
  {
   "cell_type": "code",
   "execution_count": 96,
   "id": "double-agency",
   "metadata": {},
   "outputs": [
    {
     "data": {
      "text/plain": [
       "(tensor(0.5288), tensor(0.8368))"
      ]
     },
     "execution_count": 96,
     "metadata": {},
     "output_type": "execute_result"
    }
   ],
   "source": [
    "# clamp_min(n) means replace everything below n with n, in this case, relu means replacing everything negative with 0\n",
    "# always try to use PyTorch function because they're generally implemented in C for you\n",
    "def relu(x): return x.clamp_min(0.) \n",
    "\n",
    "t = relu(lin(x_valid, w1, b1)) \n",
    "t.mean(),t.std()"
   ]
  },
  {
   "cell_type": "markdown",
   "id": "decimal-chinese",
   "metadata": {},
   "source": [
    "### Kaiming Initialization\n",
    "- The problem with Xavier Initialization is that it doesn't combat the vanishing gradient problem very well. \n",
    "- Kaiming initialization is almost identical to Xavier initialization but with a 2 on top; it will keep the std around \n",
    "\n",
    "$$\\text{std} = \\sqrt{\\frac{2}{(1 + a^2) \\times \\text{fan_in}}}$$\n",
    "\n",
    "- This was introduced in the paper that described the Imagenet-winning approach from *He et al*: [Delving Deep into Rectifiers](https://arxiv.org/abs/1502.01852), which was also the first paper that claimed \"super-human performance\" on Imagenet (and, most importantly, it introduced resnets as well as Kaiming He initialization!) \n",
    "\n",
    "- So papers by competition winners are very good because they introduce MANY good ideas instead of just one tiny tweak."
   ]
  },
  {
   "cell_type": "code",
   "execution_count": 91,
   "id": "level-begin",
   "metadata": {},
   "outputs": [
    {
     "data": {
      "text/plain": [
       "(tensor(0.6624), tensor(0.9097))"
      ]
     },
     "execution_count": 91,
     "metadata": {},
     "output_type": "execute_result"
    }
   ],
   "source": [
    "# Forward pass with Kaiming Initialization\n",
    "torch.manual_seed(42)\n",
    "w1 = torch.randn(m, nh) * math.sqrt(2/m)\n",
    "b1 = torch.zeros(nh)\n",
    "\n",
    "t = relu(lin(x_valid, w1, b1))\n",
    "t.mean(), t.std() "
   ]
  },
  {
   "cell_type": "code",
   "execution_count": 92,
   "id": "violent-backing",
   "metadata": {},
   "outputs": [
    {
     "data": {
      "text/plain": [
       "(tensor(0.6624), tensor(0.9097))"
      ]
     },
     "execution_count": 92,
     "metadata": {},
     "output_type": "execute_result"
    }
   ],
   "source": [
    "# Forward pass with PyTorch's Kaiming Initialization, same thing\n",
    "from torch.nn.init import kaiming_normal_\n",
    "\n",
    "w1 = torch.empty(m, nh)\n",
    "b1 = torch.zeros(nh)\n",
    "\n",
    "torch.manual_seed(42)\n",
    "kaiming_normal_(w1, mode='fan_out')\n",
    "t = relu(lin(x_valid, w1, b1))\n",
    "t.mean(), t.std() "
   ]
  },
  {
   "cell_type": "markdown",
   "id": "preceding-development",
   "metadata": {},
   "source": [
    "- Note: Kaiming initialization is very good but notice the mean is still not zero - we have good reasons to want them to be. So we can define our own new_relu to see if it helps with normalizing the mean. It's an intuitive thing to do and papers are written from these minor tweaks. Maybe it'll help a lot in practice"
   ]
  },
  {
   "cell_type": "code",
   "execution_count": 95,
   "id": "retired-postcard",
   "metadata": {},
   "outputs": [],
   "source": [
    "def new_relu(x): return x.clamp_min(0.) - 0.5"
   ]
  },
  {
   "cell_type": "code",
   "execution_count": 100,
   "id": "worldwide-recovery",
   "metadata": {},
   "outputs": [
    {
     "data": {
      "text/plain": [
       "(tensor(0.1624), tensor(0.9097))"
      ]
     },
     "execution_count": 100,
     "metadata": {},
     "output_type": "execute_result"
    }
   ],
   "source": [
    "# The new_relu seems to help!\n",
    "torch.manual_seed(42)\n",
    "w1 = torch.randn(m,nh) * math.sqrt(2./m)\n",
    "t1 = new_relu(lin(x_valid, w1, b1))\n",
    "t1.mean(), t1.std()"
   ]
  },
  {
   "cell_type": "markdown",
   "id": "living-hurricane",
   "metadata": {},
   "source": [
    "## Train a Model"
   ]
  },
  {
   "cell_type": "code",
   "execution_count": 136,
   "id": "inside-marketing",
   "metadata": {},
   "outputs": [],
   "source": [
    "torch.manual_seed(42)\n",
    "\n",
    "w1 = torch.empty(m, nh)\n",
    "b1 = torch.zeros(nh)\n",
    "w2 = torch.randn(nh,1)/math.sqrt(nh)\n",
    "b2 = torch.zeros(1)\n",
    "\n",
    "def model(x):\n",
    "    l1 = lin(x, w1, b1)\n",
    "    l2 = relu(l1)\n",
    "    l3 = lin(l2, w2, b2)\n",
    "    return l3"
   ]
  },
  {
   "cell_type": "code",
   "execution_count": 137,
   "id": "departmental-browser",
   "metadata": {},
   "outputs": [
    {
     "name": "stdout",
     "output_type": "stream",
     "text": [
      "16.5 ms ± 722 µs per loop (mean ± std. dev. of 7 runs, 10 loops each)\n"
     ]
    }
   ],
   "source": [
    "%timeit -n 10 _=model(x_valid)"
   ]
  },
  {
   "cell_type": "code",
   "execution_count": 138,
   "id": "stuck-omega",
   "metadata": {},
   "outputs": [],
   "source": [
    "assert model(x_valid).shape == torch.Size((x_valid.shape[0],1))"
   ]
  },
  {
   "cell_type": "markdown",
   "id": "subject-passport",
   "metadata": {},
   "source": [
    "## Loss Function\n",
    "\n",
    "- We wrongly use the MSE for now just for simplicity's sake"
   ]
  },
  {
   "cell_type": "code",
   "execution_count": 139,
   "id": "nuclear-playback",
   "metadata": {},
   "outputs": [],
   "source": [
    "def mse(pred, trg): return ((pred - trg)**2).mean()"
   ]
  },
  {
   "cell_type": "code",
   "execution_count": 140,
   "id": "aerial-berry",
   "metadata": {},
   "outputs": [],
   "source": [
    "y_train, y_valid = y_train.float(), y_valid.float()"
   ]
  },
  {
   "cell_type": "code",
   "execution_count": 141,
   "id": "worse-ceiling",
   "metadata": {},
   "outputs": [],
   "source": [
    "pred = model(x_train)"
   ]
  },
  {
   "cell_type": "code",
   "execution_count": 142,
   "id": "unavailable-illinois",
   "metadata": {},
   "outputs": [
    {
     "data": {
      "text/plain": [
       "torch.Size([50000])"
      ]
     },
     "execution_count": 142,
     "metadata": {},
     "output_type": "execute_result"
    }
   ],
   "source": [
    "y_train.shape"
   ]
  },
  {
   "cell_type": "code",
   "execution_count": 143,
   "id": "defensive-refund",
   "metadata": {},
   "outputs": [
    {
     "data": {
      "text/plain": [
       "torch.Size([50000, 1])"
      ]
     },
     "execution_count": 143,
     "metadata": {},
     "output_type": "execute_result"
    }
   ],
   "source": [
    "pred.shape # not the exact shape, need to squeeze"
   ]
  },
  {
   "cell_type": "code",
   "execution_count": 144,
   "id": "random-cricket",
   "metadata": {},
   "outputs": [
    {
     "data": {
      "text/plain": [
       "torch.Size([50000])"
      ]
     },
     "execution_count": 144,
     "metadata": {},
     "output_type": "execute_result"
    }
   ],
   "source": [
    "pred = pred.squeeze(-1)\n",
    "pred.shape"
   ]
  },
  {
   "cell_type": "code",
   "execution_count": 145,
   "id": "retained-marketing",
   "metadata": {},
   "outputs": [
    {
     "data": {
      "text/plain": [
       "tensor(24.1021)"
      ]
     },
     "execution_count": 145,
     "metadata": {},
     "output_type": "execute_result"
    }
   ],
   "source": [
    "mse(pred, y_train)"
   ]
  },
  {
   "cell_type": "markdown",
   "id": "alpha-vegetarian",
   "metadata": {},
   "source": [
    "# Backward Pass"
   ]
  },
  {
   "cell_type": "markdown",
   "id": "lonely-anime",
   "metadata": {},
   "source": [
    "- During backward pass, you calculate the gradient of every w1, b1, w2, b2 with respect to the loss\n",
    "- For each of the function below, we take the derivative of each layer in terms of loss, storing the result in thatlayer's .g -- in other words, x.grad stores the result of dloss/dx. Note x is the denominator, the layer.\n",
    "- DON'T RUN THIS FUNCTION LOCALLY ON CPU. IT REQUIRES GPU!"
   ]
  },
  {
   "cell_type": "code",
   "execution_count": 147,
   "id": "honey-complexity",
   "metadata": {},
   "outputs": [],
   "source": [
    "def mse_grad(pred, loss):\n",
    "    # gradient of loss with respect to the previous layer, so it's pred.grad == dloss/dpred\n",
    "    pred.grad = (2. * (pred - loss)).mean()"
   ]
  },
  {
   "cell_type": "code",
   "execution_count": 148,
   "id": "arranged-vermont",
   "metadata": {},
   "outputs": [],
   "source": [
    "def relu_grad(inp, out):\n",
    "    # inp.grad == dout/dinp\n",
    "    inp.grad = (inp > 0).float() * out.grad"
   ]
  },
  {
   "cell_type": "code",
   "execution_count": null,
   "id": "solar-albuquerque",
   "metadata": {},
   "outputs": [],
   "source": [
    "def lin_grad(inp, out, w, b):\n",
    "    # dloss / dl\n",
    "    inp.grad = out.grad @ w.t() \n",
    "    # dloss / dw\n",
    "    w.grad = (inp.unsqueeze(-1) * out.grad.unsqueeze(1)).sum(0)\n",
    "    # dloss / db\n",
    "    b.grad = out.grad"
   ]
  },
  {
   "cell_type": "code",
   "execution_count": 152,
   "id": "sixth-monkey",
   "metadata": {},
   "outputs": [],
   "source": [
    "torch.manual_seed(42)\n",
    "\n",
    "w1 = torch.empty(m, nh)\n",
    "b1 = torch.zeros(nh)\n",
    "w2 = torch.randn(nh,1)/math.sqrt(nh)\n",
    "b2 = torch.zeros(1)\n",
    "\n",
    "def forward_and_backward(inp, target):\n",
    "    # forward\n",
    "    l1 = lin(inp, w1, b1)\n",
    "    l2 = relu(l1)\n",
    "    pred = lin(l2, w2, b2)\n",
    "    loss = mse(pred, y_train)    \n",
    "    \n",
    "    # backward\n",
    "    # pred.grad = dloss/dpred\n",
    "    mse_grad(pred, loss) \n",
    "    # l2.grad = dloss/dl2 = dloss/dpred * dpred/dl2\n",
    "    # w2.grad = dloss/dw2 = dloss/dpred * dpred/dw2\n",
    "    # b2.grad = dloss/db2 = dloss/dpred * dpred/db2\n",
    "    lin_grad(l2, pred, w2, b2) \n",
    "    # l1.grad = dloss/dl1 = dloss/dl2 * dl2/dl1\n",
    "    relu_grad(l1, l2)\n",
    "    # x.grad = dloss/dx = dloss/dl1 * dl1/dx\n",
    "    # w1.grad = dloss/dw1 = dloss/dl1 * dl1/dw1\n",
    "    # b1.grad = dloss/db1 = dloss/dl1 * dl1/db1\n",
    "    lin_grad(x, l1, w1, b1)"
   ]
  },
  {
   "cell_type": "code",
   "execution_count": null,
   "id": "aerial-runner",
   "metadata": {},
   "outputs": [],
   "source": [
    "# Perform a full pass and save gradients for testing against later\n",
    "forward_and_backward(x_train, y_train)\n",
    "w1g = w1.g.clone()\n",
    "w2g = w2.g.clone()\n",
    "b1g = b1.g.clone()\n",
    "b2g = b2.g.clone()\n",
    "ig  = x_train.g.clone()"
   ]
  },
  {
   "cell_type": "markdown",
   "id": "terminal-general",
   "metadata": {},
   "source": [
    "# Checkpoint: https://course19.fast.ai/videos/?lesson=8 , 1:46:17"
   ]
  }
 ],
 "metadata": {
  "kernelspec": {
   "display_name": "Python 3",
   "language": "python",
   "name": "python3"
  },
  "language_info": {
   "codemirror_mode": {
    "name": "ipython",
    "version": 3
   },
   "file_extension": ".py",
   "mimetype": "text/x-python",
   "name": "python",
   "nbconvert_exporter": "python",
   "pygments_lexer": "ipython3",
   "version": "3.8.5"
  }
 },
 "nbformat": 4,
 "nbformat_minor": 5
}
