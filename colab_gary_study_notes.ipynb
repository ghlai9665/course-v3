{
  "nbformat": 4,
  "nbformat_minor": 5,
  "metadata": {
    "kernelspec": {
      "display_name": "Python 3",
      "language": "python",
      "name": "python3"
    },
    "language_info": {
      "codemirror_mode": {
        "name": "ipython",
        "version": 3
      },
      "file_extension": ".py",
      "mimetype": "text/x-python",
      "name": "python",
      "nbconvert_exporter": "python",
      "pygments_lexer": "ipython3",
      "version": "3.8.5"
    },
    "colab": {
      "name": "colab_gary_study_notes.ipynb",
      "provenance": [],
      "collapsed_sections": [
        "decimal-chinese"
      ],
      "toc_visible": true,
      "machine_shape": "hm",
      "include_colab_link": true
    },
    "widgets": {
      "application/vnd.jupyter.widget-state+json": {
        "e1609a42635c4720a530a13e7a7f08c0": {
          "model_module": "@jupyter-widgets/controls",
          "model_name": "HBoxModel",
          "state": {
            "_view_name": "HBoxView",
            "_dom_classes": [],
            "_model_name": "HBoxModel",
            "_view_module": "@jupyter-widgets/controls",
            "_model_module_version": "1.5.0",
            "_view_count": null,
            "_view_module_version": "1.5.0",
            "box_style": "",
            "layout": "IPY_MODEL_39d48ec46fdc49cf92f1ffd1385ff843",
            "_model_module": "@jupyter-widgets/controls",
            "children": [
              "IPY_MODEL_b7701e9b72db4a519ef68d6ebb1f8d3c",
              "IPY_MODEL_da4703c9768745f19a487fd14d182dd5"
            ]
          }
        },
        "39d48ec46fdc49cf92f1ffd1385ff843": {
          "model_module": "@jupyter-widgets/base",
          "model_name": "LayoutModel",
          "state": {
            "_view_name": "LayoutView",
            "grid_template_rows": null,
            "right": null,
            "justify_content": null,
            "_view_module": "@jupyter-widgets/base",
            "overflow": null,
            "_model_module_version": "1.2.0",
            "_view_count": null,
            "flex_flow": null,
            "width": null,
            "min_width": null,
            "border": null,
            "align_items": null,
            "bottom": null,
            "_model_module": "@jupyter-widgets/base",
            "top": null,
            "grid_column": null,
            "overflow_y": null,
            "overflow_x": null,
            "grid_auto_flow": null,
            "grid_area": null,
            "grid_template_columns": null,
            "flex": null,
            "_model_name": "LayoutModel",
            "justify_items": null,
            "grid_row": null,
            "max_height": null,
            "align_content": null,
            "visibility": null,
            "align_self": null,
            "height": null,
            "min_height": null,
            "padding": null,
            "grid_auto_rows": null,
            "grid_gap": null,
            "max_width": null,
            "order": null,
            "_view_module_version": "1.2.0",
            "grid_template_areas": null,
            "object_position": null,
            "object_fit": null,
            "grid_auto_columns": null,
            "margin": null,
            "display": null,
            "left": null
          }
        },
        "b7701e9b72db4a519ef68d6ebb1f8d3c": {
          "model_module": "@jupyter-widgets/controls",
          "model_name": "FloatProgressModel",
          "state": {
            "_view_name": "ProgressView",
            "style": "IPY_MODEL_af05d170446543d288fa07a57232453a",
            "_dom_classes": [],
            "description": "",
            "_model_name": "FloatProgressModel",
            "bar_style": "success",
            "max": 1,
            "_view_module": "@jupyter-widgets/controls",
            "_model_module_version": "1.5.0",
            "value": 1,
            "_view_count": null,
            "_view_module_version": "1.5.0",
            "orientation": "horizontal",
            "min": 0,
            "description_tooltip": null,
            "_model_module": "@jupyter-widgets/controls",
            "layout": "IPY_MODEL_edb7c24140c74bdf9a674cf87246ad62"
          }
        },
        "da4703c9768745f19a487fd14d182dd5": {
          "model_module": "@jupyter-widgets/controls",
          "model_name": "HTMLModel",
          "state": {
            "_view_name": "HTMLView",
            "style": "IPY_MODEL_500384905b9a432186a7cb026ee7b8b6",
            "_dom_classes": [],
            "description": "",
            "_model_name": "HTMLModel",
            "placeholder": "​",
            "_view_module": "@jupyter-widgets/controls",
            "_model_module_version": "1.5.0",
            "value": " 9920512/? [00:06&lt;00:00, 1432281.53it/s]",
            "_view_count": null,
            "_view_module_version": "1.5.0",
            "description_tooltip": null,
            "_model_module": "@jupyter-widgets/controls",
            "layout": "IPY_MODEL_8d98ba488fee4efbbc92262e4d6b0630"
          }
        },
        "af05d170446543d288fa07a57232453a": {
          "model_module": "@jupyter-widgets/controls",
          "model_name": "ProgressStyleModel",
          "state": {
            "_view_name": "StyleView",
            "_model_name": "ProgressStyleModel",
            "description_width": "initial",
            "_view_module": "@jupyter-widgets/base",
            "_model_module_version": "1.5.0",
            "_view_count": null,
            "_view_module_version": "1.2.0",
            "bar_color": null,
            "_model_module": "@jupyter-widgets/controls"
          }
        },
        "edb7c24140c74bdf9a674cf87246ad62": {
          "model_module": "@jupyter-widgets/base",
          "model_name": "LayoutModel",
          "state": {
            "_view_name": "LayoutView",
            "grid_template_rows": null,
            "right": null,
            "justify_content": null,
            "_view_module": "@jupyter-widgets/base",
            "overflow": null,
            "_model_module_version": "1.2.0",
            "_view_count": null,
            "flex_flow": null,
            "width": null,
            "min_width": null,
            "border": null,
            "align_items": null,
            "bottom": null,
            "_model_module": "@jupyter-widgets/base",
            "top": null,
            "grid_column": null,
            "overflow_y": null,
            "overflow_x": null,
            "grid_auto_flow": null,
            "grid_area": null,
            "grid_template_columns": null,
            "flex": null,
            "_model_name": "LayoutModel",
            "justify_items": null,
            "grid_row": null,
            "max_height": null,
            "align_content": null,
            "visibility": null,
            "align_self": null,
            "height": null,
            "min_height": null,
            "padding": null,
            "grid_auto_rows": null,
            "grid_gap": null,
            "max_width": null,
            "order": null,
            "_view_module_version": "1.2.0",
            "grid_template_areas": null,
            "object_position": null,
            "object_fit": null,
            "grid_auto_columns": null,
            "margin": null,
            "display": null,
            "left": null
          }
        },
        "500384905b9a432186a7cb026ee7b8b6": {
          "model_module": "@jupyter-widgets/controls",
          "model_name": "DescriptionStyleModel",
          "state": {
            "_view_name": "StyleView",
            "_model_name": "DescriptionStyleModel",
            "description_width": "",
            "_view_module": "@jupyter-widgets/base",
            "_model_module_version": "1.5.0",
            "_view_count": null,
            "_view_module_version": "1.2.0",
            "_model_module": "@jupyter-widgets/controls"
          }
        },
        "8d98ba488fee4efbbc92262e4d6b0630": {
          "model_module": "@jupyter-widgets/base",
          "model_name": "LayoutModel",
          "state": {
            "_view_name": "LayoutView",
            "grid_template_rows": null,
            "right": null,
            "justify_content": null,
            "_view_module": "@jupyter-widgets/base",
            "overflow": null,
            "_model_module_version": "1.2.0",
            "_view_count": null,
            "flex_flow": null,
            "width": null,
            "min_width": null,
            "border": null,
            "align_items": null,
            "bottom": null,
            "_model_module": "@jupyter-widgets/base",
            "top": null,
            "grid_column": null,
            "overflow_y": null,
            "overflow_x": null,
            "grid_auto_flow": null,
            "grid_area": null,
            "grid_template_columns": null,
            "flex": null,
            "_model_name": "LayoutModel",
            "justify_items": null,
            "grid_row": null,
            "max_height": null,
            "align_content": null,
            "visibility": null,
            "align_self": null,
            "height": null,
            "min_height": null,
            "padding": null,
            "grid_auto_rows": null,
            "grid_gap": null,
            "max_width": null,
            "order": null,
            "_view_module_version": "1.2.0",
            "grid_template_areas": null,
            "object_position": null,
            "object_fit": null,
            "grid_auto_columns": null,
            "margin": null,
            "display": null,
            "left": null
          }
        },
        "58ff2f69e89c4b8f8f4cb6e338b79d8e": {
          "model_module": "@jupyter-widgets/controls",
          "model_name": "HBoxModel",
          "state": {
            "_view_name": "HBoxView",
            "_dom_classes": [],
            "_model_name": "HBoxModel",
            "_view_module": "@jupyter-widgets/controls",
            "_model_module_version": "1.5.0",
            "_view_count": null,
            "_view_module_version": "1.5.0",
            "box_style": "",
            "layout": "IPY_MODEL_252e7775f01a4d1da8145431f397d44f",
            "_model_module": "@jupyter-widgets/controls",
            "children": [
              "IPY_MODEL_1e47aca72f834263913206f2e5789ad6",
              "IPY_MODEL_777a599aac6d4c73a266bdef726a0658"
            ]
          }
        },
        "252e7775f01a4d1da8145431f397d44f": {
          "model_module": "@jupyter-widgets/base",
          "model_name": "LayoutModel",
          "state": {
            "_view_name": "LayoutView",
            "grid_template_rows": null,
            "right": null,
            "justify_content": null,
            "_view_module": "@jupyter-widgets/base",
            "overflow": null,
            "_model_module_version": "1.2.0",
            "_view_count": null,
            "flex_flow": null,
            "width": null,
            "min_width": null,
            "border": null,
            "align_items": null,
            "bottom": null,
            "_model_module": "@jupyter-widgets/base",
            "top": null,
            "grid_column": null,
            "overflow_y": null,
            "overflow_x": null,
            "grid_auto_flow": null,
            "grid_area": null,
            "grid_template_columns": null,
            "flex": null,
            "_model_name": "LayoutModel",
            "justify_items": null,
            "grid_row": null,
            "max_height": null,
            "align_content": null,
            "visibility": null,
            "align_self": null,
            "height": null,
            "min_height": null,
            "padding": null,
            "grid_auto_rows": null,
            "grid_gap": null,
            "max_width": null,
            "order": null,
            "_view_module_version": "1.2.0",
            "grid_template_areas": null,
            "object_position": null,
            "object_fit": null,
            "grid_auto_columns": null,
            "margin": null,
            "display": null,
            "left": null
          }
        },
        "1e47aca72f834263913206f2e5789ad6": {
          "model_module": "@jupyter-widgets/controls",
          "model_name": "FloatProgressModel",
          "state": {
            "_view_name": "ProgressView",
            "style": "IPY_MODEL_57ecdcecca1a42899617c8d25dcf0748",
            "_dom_classes": [],
            "description": "",
            "_model_name": "FloatProgressModel",
            "bar_style": "success",
            "max": 1,
            "_view_module": "@jupyter-widgets/controls",
            "_model_module_version": "1.5.0",
            "value": 1,
            "_view_count": null,
            "_view_module_version": "1.5.0",
            "orientation": "horizontal",
            "min": 0,
            "description_tooltip": null,
            "_model_module": "@jupyter-widgets/controls",
            "layout": "IPY_MODEL_8f52afdc1c36456c9d19e9be0f69ffc3"
          }
        },
        "777a599aac6d4c73a266bdef726a0658": {
          "model_module": "@jupyter-widgets/controls",
          "model_name": "HTMLModel",
          "state": {
            "_view_name": "HTMLView",
            "style": "IPY_MODEL_118fd800c1a0480e998f3eed8bb46348",
            "_dom_classes": [],
            "description": "",
            "_model_name": "HTMLModel",
            "placeholder": "​",
            "_view_module": "@jupyter-widgets/controls",
            "_model_module_version": "1.5.0",
            "value": " 32768/? [00:00&lt;00:00, 181591.71it/s]",
            "_view_count": null,
            "_view_module_version": "1.5.0",
            "description_tooltip": null,
            "_model_module": "@jupyter-widgets/controls",
            "layout": "IPY_MODEL_38ea2a3a19c44669a020c80ea5d8517c"
          }
        },
        "57ecdcecca1a42899617c8d25dcf0748": {
          "model_module": "@jupyter-widgets/controls",
          "model_name": "ProgressStyleModel",
          "state": {
            "_view_name": "StyleView",
            "_model_name": "ProgressStyleModel",
            "description_width": "initial",
            "_view_module": "@jupyter-widgets/base",
            "_model_module_version": "1.5.0",
            "_view_count": null,
            "_view_module_version": "1.2.0",
            "bar_color": null,
            "_model_module": "@jupyter-widgets/controls"
          }
        },
        "8f52afdc1c36456c9d19e9be0f69ffc3": {
          "model_module": "@jupyter-widgets/base",
          "model_name": "LayoutModel",
          "state": {
            "_view_name": "LayoutView",
            "grid_template_rows": null,
            "right": null,
            "justify_content": null,
            "_view_module": "@jupyter-widgets/base",
            "overflow": null,
            "_model_module_version": "1.2.0",
            "_view_count": null,
            "flex_flow": null,
            "width": null,
            "min_width": null,
            "border": null,
            "align_items": null,
            "bottom": null,
            "_model_module": "@jupyter-widgets/base",
            "top": null,
            "grid_column": null,
            "overflow_y": null,
            "overflow_x": null,
            "grid_auto_flow": null,
            "grid_area": null,
            "grid_template_columns": null,
            "flex": null,
            "_model_name": "LayoutModel",
            "justify_items": null,
            "grid_row": null,
            "max_height": null,
            "align_content": null,
            "visibility": null,
            "align_self": null,
            "height": null,
            "min_height": null,
            "padding": null,
            "grid_auto_rows": null,
            "grid_gap": null,
            "max_width": null,
            "order": null,
            "_view_module_version": "1.2.0",
            "grid_template_areas": null,
            "object_position": null,
            "object_fit": null,
            "grid_auto_columns": null,
            "margin": null,
            "display": null,
            "left": null
          }
        },
        "118fd800c1a0480e998f3eed8bb46348": {
          "model_module": "@jupyter-widgets/controls",
          "model_name": "DescriptionStyleModel",
          "state": {
            "_view_name": "StyleView",
            "_model_name": "DescriptionStyleModel",
            "description_width": "",
            "_view_module": "@jupyter-widgets/base",
            "_model_module_version": "1.5.0",
            "_view_count": null,
            "_view_module_version": "1.2.0",
            "_model_module": "@jupyter-widgets/controls"
          }
        },
        "38ea2a3a19c44669a020c80ea5d8517c": {
          "model_module": "@jupyter-widgets/base",
          "model_name": "LayoutModel",
          "state": {
            "_view_name": "LayoutView",
            "grid_template_rows": null,
            "right": null,
            "justify_content": null,
            "_view_module": "@jupyter-widgets/base",
            "overflow": null,
            "_model_module_version": "1.2.0",
            "_view_count": null,
            "flex_flow": null,
            "width": null,
            "min_width": null,
            "border": null,
            "align_items": null,
            "bottom": null,
            "_model_module": "@jupyter-widgets/base",
            "top": null,
            "grid_column": null,
            "overflow_y": null,
            "overflow_x": null,
            "grid_auto_flow": null,
            "grid_area": null,
            "grid_template_columns": null,
            "flex": null,
            "_model_name": "LayoutModel",
            "justify_items": null,
            "grid_row": null,
            "max_height": null,
            "align_content": null,
            "visibility": null,
            "align_self": null,
            "height": null,
            "min_height": null,
            "padding": null,
            "grid_auto_rows": null,
            "grid_gap": null,
            "max_width": null,
            "order": null,
            "_view_module_version": "1.2.0",
            "grid_template_areas": null,
            "object_position": null,
            "object_fit": null,
            "grid_auto_columns": null,
            "margin": null,
            "display": null,
            "left": null
          }
        },
        "48e6e4fdf4c7463fbe8845f4a409c0fe": {
          "model_module": "@jupyter-widgets/controls",
          "model_name": "HBoxModel",
          "state": {
            "_view_name": "HBoxView",
            "_dom_classes": [],
            "_model_name": "HBoxModel",
            "_view_module": "@jupyter-widgets/controls",
            "_model_module_version": "1.5.0",
            "_view_count": null,
            "_view_module_version": "1.5.0",
            "box_style": "",
            "layout": "IPY_MODEL_14b9e5b7d9a645e486c435a4af7c55ab",
            "_model_module": "@jupyter-widgets/controls",
            "children": [
              "IPY_MODEL_1e7f4b4d17664120b235b054b9d2e03f",
              "IPY_MODEL_401cfaba80124aae98439094495a7cf4"
            ]
          }
        },
        "14b9e5b7d9a645e486c435a4af7c55ab": {
          "model_module": "@jupyter-widgets/base",
          "model_name": "LayoutModel",
          "state": {
            "_view_name": "LayoutView",
            "grid_template_rows": null,
            "right": null,
            "justify_content": null,
            "_view_module": "@jupyter-widgets/base",
            "overflow": null,
            "_model_module_version": "1.2.0",
            "_view_count": null,
            "flex_flow": null,
            "width": null,
            "min_width": null,
            "border": null,
            "align_items": null,
            "bottom": null,
            "_model_module": "@jupyter-widgets/base",
            "top": null,
            "grid_column": null,
            "overflow_y": null,
            "overflow_x": null,
            "grid_auto_flow": null,
            "grid_area": null,
            "grid_template_columns": null,
            "flex": null,
            "_model_name": "LayoutModel",
            "justify_items": null,
            "grid_row": null,
            "max_height": null,
            "align_content": null,
            "visibility": null,
            "align_self": null,
            "height": null,
            "min_height": null,
            "padding": null,
            "grid_auto_rows": null,
            "grid_gap": null,
            "max_width": null,
            "order": null,
            "_view_module_version": "1.2.0",
            "grid_template_areas": null,
            "object_position": null,
            "object_fit": null,
            "grid_auto_columns": null,
            "margin": null,
            "display": null,
            "left": null
          }
        },
        "1e7f4b4d17664120b235b054b9d2e03f": {
          "model_module": "@jupyter-widgets/controls",
          "model_name": "FloatProgressModel",
          "state": {
            "_view_name": "ProgressView",
            "style": "IPY_MODEL_72eb7d0ca3d44597ab1f55b624f40a7f",
            "_dom_classes": [],
            "description": "",
            "_model_name": "FloatProgressModel",
            "bar_style": "success",
            "max": 1,
            "_view_module": "@jupyter-widgets/controls",
            "_model_module_version": "1.5.0",
            "value": 1,
            "_view_count": null,
            "_view_module_version": "1.5.0",
            "orientation": "horizontal",
            "min": 0,
            "description_tooltip": null,
            "_model_module": "@jupyter-widgets/controls",
            "layout": "IPY_MODEL_af79741717624d1fab6d64ffb2382fb7"
          }
        },
        "401cfaba80124aae98439094495a7cf4": {
          "model_module": "@jupyter-widgets/controls",
          "model_name": "HTMLModel",
          "state": {
            "_view_name": "HTMLView",
            "style": "IPY_MODEL_92f0e2c7ef3847d8acf001b90be32044",
            "_dom_classes": [],
            "description": "",
            "_model_name": "HTMLModel",
            "placeholder": "​",
            "_view_module": "@jupyter-widgets/controls",
            "_model_module_version": "1.5.0",
            "value": " 1654784/? [00:05&lt;00:00, 279402.48it/s]",
            "_view_count": null,
            "_view_module_version": "1.5.0",
            "description_tooltip": null,
            "_model_module": "@jupyter-widgets/controls",
            "layout": "IPY_MODEL_305de56adccd48ad8a0847c69f09740d"
          }
        },
        "72eb7d0ca3d44597ab1f55b624f40a7f": {
          "model_module": "@jupyter-widgets/controls",
          "model_name": "ProgressStyleModel",
          "state": {
            "_view_name": "StyleView",
            "_model_name": "ProgressStyleModel",
            "description_width": "initial",
            "_view_module": "@jupyter-widgets/base",
            "_model_module_version": "1.5.0",
            "_view_count": null,
            "_view_module_version": "1.2.0",
            "bar_color": null,
            "_model_module": "@jupyter-widgets/controls"
          }
        },
        "af79741717624d1fab6d64ffb2382fb7": {
          "model_module": "@jupyter-widgets/base",
          "model_name": "LayoutModel",
          "state": {
            "_view_name": "LayoutView",
            "grid_template_rows": null,
            "right": null,
            "justify_content": null,
            "_view_module": "@jupyter-widgets/base",
            "overflow": null,
            "_model_module_version": "1.2.0",
            "_view_count": null,
            "flex_flow": null,
            "width": null,
            "min_width": null,
            "border": null,
            "align_items": null,
            "bottom": null,
            "_model_module": "@jupyter-widgets/base",
            "top": null,
            "grid_column": null,
            "overflow_y": null,
            "overflow_x": null,
            "grid_auto_flow": null,
            "grid_area": null,
            "grid_template_columns": null,
            "flex": null,
            "_model_name": "LayoutModel",
            "justify_items": null,
            "grid_row": null,
            "max_height": null,
            "align_content": null,
            "visibility": null,
            "align_self": null,
            "height": null,
            "min_height": null,
            "padding": null,
            "grid_auto_rows": null,
            "grid_gap": null,
            "max_width": null,
            "order": null,
            "_view_module_version": "1.2.0",
            "grid_template_areas": null,
            "object_position": null,
            "object_fit": null,
            "grid_auto_columns": null,
            "margin": null,
            "display": null,
            "left": null
          }
        },
        "92f0e2c7ef3847d8acf001b90be32044": {
          "model_module": "@jupyter-widgets/controls",
          "model_name": "DescriptionStyleModel",
          "state": {
            "_view_name": "StyleView",
            "_model_name": "DescriptionStyleModel",
            "description_width": "",
            "_view_module": "@jupyter-widgets/base",
            "_model_module_version": "1.5.0",
            "_view_count": null,
            "_view_module_version": "1.2.0",
            "_model_module": "@jupyter-widgets/controls"
          }
        },
        "305de56adccd48ad8a0847c69f09740d": {
          "model_module": "@jupyter-widgets/base",
          "model_name": "LayoutModel",
          "state": {
            "_view_name": "LayoutView",
            "grid_template_rows": null,
            "right": null,
            "justify_content": null,
            "_view_module": "@jupyter-widgets/base",
            "overflow": null,
            "_model_module_version": "1.2.0",
            "_view_count": null,
            "flex_flow": null,
            "width": null,
            "min_width": null,
            "border": null,
            "align_items": null,
            "bottom": null,
            "_model_module": "@jupyter-widgets/base",
            "top": null,
            "grid_column": null,
            "overflow_y": null,
            "overflow_x": null,
            "grid_auto_flow": null,
            "grid_area": null,
            "grid_template_columns": null,
            "flex": null,
            "_model_name": "LayoutModel",
            "justify_items": null,
            "grid_row": null,
            "max_height": null,
            "align_content": null,
            "visibility": null,
            "align_self": null,
            "height": null,
            "min_height": null,
            "padding": null,
            "grid_auto_rows": null,
            "grid_gap": null,
            "max_width": null,
            "order": null,
            "_view_module_version": "1.2.0",
            "grid_template_areas": null,
            "object_position": null,
            "object_fit": null,
            "grid_auto_columns": null,
            "margin": null,
            "display": null,
            "left": null
          }
        },
        "366c5fe8fcc84e44a05fd715eae563c4": {
          "model_module": "@jupyter-widgets/controls",
          "model_name": "HBoxModel",
          "state": {
            "_view_name": "HBoxView",
            "_dom_classes": [],
            "_model_name": "HBoxModel",
            "_view_module": "@jupyter-widgets/controls",
            "_model_module_version": "1.5.0",
            "_view_count": null,
            "_view_module_version": "1.5.0",
            "box_style": "",
            "layout": "IPY_MODEL_b735ac4dc5b44e6b97219b8054a34304",
            "_model_module": "@jupyter-widgets/controls",
            "children": [
              "IPY_MODEL_c8268900c5d0434a9b7ea8a44d1d35dd",
              "IPY_MODEL_c09ca267f04649539b78727650042694"
            ]
          }
        },
        "b735ac4dc5b44e6b97219b8054a34304": {
          "model_module": "@jupyter-widgets/base",
          "model_name": "LayoutModel",
          "state": {
            "_view_name": "LayoutView",
            "grid_template_rows": null,
            "right": null,
            "justify_content": null,
            "_view_module": "@jupyter-widgets/base",
            "overflow": null,
            "_model_module_version": "1.2.0",
            "_view_count": null,
            "flex_flow": null,
            "width": null,
            "min_width": null,
            "border": null,
            "align_items": null,
            "bottom": null,
            "_model_module": "@jupyter-widgets/base",
            "top": null,
            "grid_column": null,
            "overflow_y": null,
            "overflow_x": null,
            "grid_auto_flow": null,
            "grid_area": null,
            "grid_template_columns": null,
            "flex": null,
            "_model_name": "LayoutModel",
            "justify_items": null,
            "grid_row": null,
            "max_height": null,
            "align_content": null,
            "visibility": null,
            "align_self": null,
            "height": null,
            "min_height": null,
            "padding": null,
            "grid_auto_rows": null,
            "grid_gap": null,
            "max_width": null,
            "order": null,
            "_view_module_version": "1.2.0",
            "grid_template_areas": null,
            "object_position": null,
            "object_fit": null,
            "grid_auto_columns": null,
            "margin": null,
            "display": null,
            "left": null
          }
        },
        "c8268900c5d0434a9b7ea8a44d1d35dd": {
          "model_module": "@jupyter-widgets/controls",
          "model_name": "FloatProgressModel",
          "state": {
            "_view_name": "ProgressView",
            "style": "IPY_MODEL_5ce61522cbf047fabbfdbe292356ba34",
            "_dom_classes": [],
            "description": "",
            "_model_name": "FloatProgressModel",
            "bar_style": "success",
            "max": 1,
            "_view_module": "@jupyter-widgets/controls",
            "_model_module_version": "1.5.0",
            "value": 1,
            "_view_count": null,
            "_view_module_version": "1.5.0",
            "orientation": "horizontal",
            "min": 0,
            "description_tooltip": null,
            "_model_module": "@jupyter-widgets/controls",
            "layout": "IPY_MODEL_7c6298b5376e4d6d84bfe0e658bbfac6"
          }
        },
        "c09ca267f04649539b78727650042694": {
          "model_module": "@jupyter-widgets/controls",
          "model_name": "HTMLModel",
          "state": {
            "_view_name": "HTMLView",
            "style": "IPY_MODEL_feff548a4c6b429ca5b16a1367997c64",
            "_dom_classes": [],
            "description": "",
            "_model_name": "HTMLModel",
            "placeholder": "​",
            "_view_module": "@jupyter-widgets/controls",
            "_model_module_version": "1.5.0",
            "value": " 8192/? [00:04&lt;00:00, 1950.39it/s]",
            "_view_count": null,
            "_view_module_version": "1.5.0",
            "description_tooltip": null,
            "_model_module": "@jupyter-widgets/controls",
            "layout": "IPY_MODEL_b254bddf997b49a79a3c6643763ecb7f"
          }
        },
        "5ce61522cbf047fabbfdbe292356ba34": {
          "model_module": "@jupyter-widgets/controls",
          "model_name": "ProgressStyleModel",
          "state": {
            "_view_name": "StyleView",
            "_model_name": "ProgressStyleModel",
            "description_width": "initial",
            "_view_module": "@jupyter-widgets/base",
            "_model_module_version": "1.5.0",
            "_view_count": null,
            "_view_module_version": "1.2.0",
            "bar_color": null,
            "_model_module": "@jupyter-widgets/controls"
          }
        },
        "7c6298b5376e4d6d84bfe0e658bbfac6": {
          "model_module": "@jupyter-widgets/base",
          "model_name": "LayoutModel",
          "state": {
            "_view_name": "LayoutView",
            "grid_template_rows": null,
            "right": null,
            "justify_content": null,
            "_view_module": "@jupyter-widgets/base",
            "overflow": null,
            "_model_module_version": "1.2.0",
            "_view_count": null,
            "flex_flow": null,
            "width": null,
            "min_width": null,
            "border": null,
            "align_items": null,
            "bottom": null,
            "_model_module": "@jupyter-widgets/base",
            "top": null,
            "grid_column": null,
            "overflow_y": null,
            "overflow_x": null,
            "grid_auto_flow": null,
            "grid_area": null,
            "grid_template_columns": null,
            "flex": null,
            "_model_name": "LayoutModel",
            "justify_items": null,
            "grid_row": null,
            "max_height": null,
            "align_content": null,
            "visibility": null,
            "align_self": null,
            "height": null,
            "min_height": null,
            "padding": null,
            "grid_auto_rows": null,
            "grid_gap": null,
            "max_width": null,
            "order": null,
            "_view_module_version": "1.2.0",
            "grid_template_areas": null,
            "object_position": null,
            "object_fit": null,
            "grid_auto_columns": null,
            "margin": null,
            "display": null,
            "left": null
          }
        },
        "feff548a4c6b429ca5b16a1367997c64": {
          "model_module": "@jupyter-widgets/controls",
          "model_name": "DescriptionStyleModel",
          "state": {
            "_view_name": "StyleView",
            "_model_name": "DescriptionStyleModel",
            "description_width": "",
            "_view_module": "@jupyter-widgets/base",
            "_model_module_version": "1.5.0",
            "_view_count": null,
            "_view_module_version": "1.2.0",
            "_model_module": "@jupyter-widgets/controls"
          }
        },
        "b254bddf997b49a79a3c6643763ecb7f": {
          "model_module": "@jupyter-widgets/base",
          "model_name": "LayoutModel",
          "state": {
            "_view_name": "LayoutView",
            "grid_template_rows": null,
            "right": null,
            "justify_content": null,
            "_view_module": "@jupyter-widgets/base",
            "overflow": null,
            "_model_module_version": "1.2.0",
            "_view_count": null,
            "flex_flow": null,
            "width": null,
            "min_width": null,
            "border": null,
            "align_items": null,
            "bottom": null,
            "_model_module": "@jupyter-widgets/base",
            "top": null,
            "grid_column": null,
            "overflow_y": null,
            "overflow_x": null,
            "grid_auto_flow": null,
            "grid_area": null,
            "grid_template_columns": null,
            "flex": null,
            "_model_name": "LayoutModel",
            "justify_items": null,
            "grid_row": null,
            "max_height": null,
            "align_content": null,
            "visibility": null,
            "align_self": null,
            "height": null,
            "min_height": null,
            "padding": null,
            "grid_auto_rows": null,
            "grid_gap": null,
            "max_width": null,
            "order": null,
            "_view_module_version": "1.2.0",
            "grid_template_areas": null,
            "object_position": null,
            "object_fit": null,
            "grid_auto_columns": null,
            "margin": null,
            "display": null,
            "left": null
          }
        }
      }
    }
  },
  "cells": [
    {
      "cell_type": "markdown",
      "metadata": {
        "id": "view-in-github",
        "colab_type": "text"
      },
      "source": [
        "<a href=\"https://colab.research.google.com/github/ghlai9665/course-v3/blob/master/colab_gary_study_notes.ipynb\" target=\"_parent\"><img src=\"https://colab.research.google.com/assets/colab-badge.svg\" alt=\"Open In Colab\"/></a>"
      ]
    },
    {
      "cell_type": "markdown",
      "metadata": {
        "id": "restricted-mountain"
      },
      "source": [
        "Beginning after the matrix multiplication lesson, which has decent notes, but should take notes in a completely new Jupyter Notebook for better organization and retention.\n"
      ],
      "id": "restricted-mountain"
    },
    {
      "cell_type": "markdown",
      "metadata": {
        "id": "worse-greeting"
      },
      "source": [
        "# Forward Pass"
      ],
      "id": "worse-greeting"
    },
    {
      "cell_type": "markdown",
      "metadata": {
        "id": "suited-desert"
      },
      "source": [
        "## Imports"
      ],
      "id": "suited-desert"
    },
    {
      "cell_type": "code",
      "metadata": {
        "id": "CTMXQ635j60H"
      },
      "source": [
        "import operator\n",
        "\n",
        "def test(a,b,cmp,cname=None):\n",
        "    if cname is None: cname=cmp.__name__\n",
        "    assert cmp(a,b),f\"{cname}:\\n{a}\\n{b}\"\n",
        "\n",
        "def test_eq(a,b): test(a,b,operator.eq,'==')\n",
        "\n",
        "from pathlib import Path\n",
        "from IPython.core.debugger import set_trace\n",
        "from fastai import datasets\n",
        "import pickle, gzip, math, torch, matplotlib as mpl\n",
        "import matplotlib.pyplot as plt\n",
        "from torch import tensor\n",
        "import torch.nn.functional as F\n",
        "\n",
        "def near(a,b): return torch.allclose(a, b, rtol=1e-3, atol=1e-5)\n",
        "def test_near(a,b): test(a,b,near)\n",
        "\n",
        "# Make MNIST data work on Google Colab\n",
        "from six.moves import urllib\n",
        "opener = urllib.request.build_opener()\n",
        "opener.addheaders = [('User-agent', 'Mozilla/5.0')]\n",
        "urllib.request.install_opener(opener)"
      ],
      "id": "CTMXQ635j60H",
      "execution_count": 1,
      "outputs": []
    },
    {
      "cell_type": "code",
      "metadata": {
        "id": "specific-durham"
      },
      "source": [
        "%load_ext autoreload\n",
        "%autoreload 2\n",
        "%matplotlib inline\n",
        "\n",
        "def get_data():\n",
        "    import os\n",
        "    import torchvision.datasets as datasets\n",
        "    root = '../data'\n",
        "    if not os.path.exists(root):\n",
        "        os.mkdir(root)\n",
        "    train_set = datasets.MNIST(root=root, train=True, download=True)\n",
        "    test_set = datasets.MNIST(root=root, train=False, download=True)\n",
        "    x_train, x_valid = train_set.train_data.split([50000, 10000])\n",
        "    y_train, y_valid = train_set.train_labels.split([50000, 10000])\n",
        "    return (x_train.view(50000, -1) / 256.0), y_train.float(), (x_valid.view(10000, -1))/ 256.0, y_valid.float()\n",
        "\n",
        "# The geographic intuition for this is picturing x's around a horizontal line (mean), bring that mean down to 0,\n",
        "# then scale x's by dividing them by the standard deviation\n",
        "def normalize(x, mean, std): return (x-mean)/std"
      ],
      "id": "specific-durham",
      "execution_count": 2,
      "outputs": []
    },
    {
      "cell_type": "code",
      "metadata": {
        "id": "raised-lebanon",
        "colab": {
          "base_uri": "https://localhost:8080/",
          "height": 454,
          "referenced_widgets": [
            "e1609a42635c4720a530a13e7a7f08c0",
            "39d48ec46fdc49cf92f1ffd1385ff843",
            "b7701e9b72db4a519ef68d6ebb1f8d3c",
            "da4703c9768745f19a487fd14d182dd5",
            "af05d170446543d288fa07a57232453a",
            "edb7c24140c74bdf9a674cf87246ad62",
            "500384905b9a432186a7cb026ee7b8b6",
            "8d98ba488fee4efbbc92262e4d6b0630",
            "58ff2f69e89c4b8f8f4cb6e338b79d8e",
            "252e7775f01a4d1da8145431f397d44f",
            "1e47aca72f834263913206f2e5789ad6",
            "777a599aac6d4c73a266bdef726a0658",
            "57ecdcecca1a42899617c8d25dcf0748",
            "8f52afdc1c36456c9d19e9be0f69ffc3",
            "118fd800c1a0480e998f3eed8bb46348",
            "38ea2a3a19c44669a020c80ea5d8517c",
            "48e6e4fdf4c7463fbe8845f4a409c0fe",
            "14b9e5b7d9a645e486c435a4af7c55ab",
            "1e7f4b4d17664120b235b054b9d2e03f",
            "401cfaba80124aae98439094495a7cf4",
            "72eb7d0ca3d44597ab1f55b624f40a7f",
            "af79741717624d1fab6d64ffb2382fb7",
            "92f0e2c7ef3847d8acf001b90be32044",
            "305de56adccd48ad8a0847c69f09740d",
            "366c5fe8fcc84e44a05fd715eae563c4",
            "b735ac4dc5b44e6b97219b8054a34304",
            "c8268900c5d0434a9b7ea8a44d1d35dd",
            "c09ca267f04649539b78727650042694",
            "5ce61522cbf047fabbfdbe292356ba34",
            "7c6298b5376e4d6d84bfe0e658bbfac6",
            "feff548a4c6b429ca5b16a1367997c64",
            "b254bddf997b49a79a3c6643763ecb7f"
          ]
        },
        "outputId": "bb2655c1-a14a-44e7-c464-6e72059bdacc"
      },
      "source": [
        "x_train, y_train, x_valid, y_valid = get_data()"
      ],
      "id": "raised-lebanon",
      "execution_count": 3,
      "outputs": [
        {
          "output_type": "stream",
          "text": [
            "Downloading http://yann.lecun.com/exdb/mnist/train-images-idx3-ubyte.gz to ../data/MNIST/raw/train-images-idx3-ubyte.gz\n"
          ],
          "name": "stdout"
        },
        {
          "output_type": "display_data",
          "data": {
            "application/vnd.jupyter.widget-view+json": {
              "model_id": "e1609a42635c4720a530a13e7a7f08c0",
              "version_minor": 0,
              "version_major": 2
            },
            "text/plain": [
              "HBox(children=(FloatProgress(value=1.0, bar_style='info', max=1.0), HTML(value='')))"
            ]
          },
          "metadata": {
            "tags": []
          }
        },
        {
          "output_type": "stream",
          "text": [
            "Extracting ../data/MNIST/raw/train-images-idx3-ubyte.gz to ../data/MNIST/raw\n",
            "Downloading http://yann.lecun.com/exdb/mnist/train-labels-idx1-ubyte.gz to ../data/MNIST/raw/train-labels-idx1-ubyte.gz\n"
          ],
          "name": "stdout"
        },
        {
          "output_type": "display_data",
          "data": {
            "application/vnd.jupyter.widget-view+json": {
              "model_id": "58ff2f69e89c4b8f8f4cb6e338b79d8e",
              "version_minor": 0,
              "version_major": 2
            },
            "text/plain": [
              "HBox(children=(FloatProgress(value=1.0, bar_style='info', max=1.0), HTML(value='')))"
            ]
          },
          "metadata": {
            "tags": []
          }
        },
        {
          "output_type": "stream",
          "text": [
            "Extracting ../data/MNIST/raw/train-labels-idx1-ubyte.gz to ../data/MNIST/raw\n",
            "Downloading http://yann.lecun.com/exdb/mnist/t10k-images-idx3-ubyte.gz to ../data/MNIST/raw/t10k-images-idx3-ubyte.gz\n",
            "\n"
          ],
          "name": "stdout"
        },
        {
          "output_type": "display_data",
          "data": {
            "application/vnd.jupyter.widget-view+json": {
              "model_id": "48e6e4fdf4c7463fbe8845f4a409c0fe",
              "version_minor": 0,
              "version_major": 2
            },
            "text/plain": [
              "HBox(children=(FloatProgress(value=1.0, bar_style='info', max=1.0), HTML(value='')))"
            ]
          },
          "metadata": {
            "tags": []
          }
        },
        {
          "output_type": "stream",
          "text": [
            "Extracting ../data/MNIST/raw/t10k-images-idx3-ubyte.gz to ../data/MNIST/raw\n",
            "Downloading http://yann.lecun.com/exdb/mnist/t10k-labels-idx1-ubyte.gz to ../data/MNIST/raw/t10k-labels-idx1-ubyte.gz\n"
          ],
          "name": "stdout"
        },
        {
          "output_type": "display_data",
          "data": {
            "application/vnd.jupyter.widget-view+json": {
              "model_id": "366c5fe8fcc84e44a05fd715eae563c4",
              "version_minor": 0,
              "version_major": 2
            },
            "text/plain": [
              "HBox(children=(FloatProgress(value=1.0, bar_style='info', max=1.0), HTML(value='')))"
            ]
          },
          "metadata": {
            "tags": []
          }
        },
        {
          "output_type": "stream",
          "text": [
            "Extracting ../data/MNIST/raw/t10k-labels-idx1-ubyte.gz to ../data/MNIST/raw\n",
            "Processing...\n"
          ],
          "name": "stdout"
        },
        {
          "output_type": "stream",
          "text": [
            "/usr/local/lib/python3.7/dist-packages/torchvision/datasets/mnist.py:480: UserWarning: The given NumPy array is not writeable, and PyTorch does not support non-writeable tensors. This means you can write to the underlying (supposedly non-writeable) NumPy array using the tensor. You may want to copy the array to protect its data or make it writeable before converting it to a tensor. This type of warning will be suppressed for the rest of this program. (Triggered internally at  /pytorch/torch/csrc/utils/tensor_numpy.cpp:141.)\n",
            "  return torch.from_numpy(parsed.astype(m[2], copy=False)).view(*s)\n",
            "/usr/local/lib/python3.7/dist-packages/torchvision/datasets/mnist.py:58: UserWarning: train_data has been renamed data\n",
            "  warnings.warn(\"train_data has been renamed data\")\n",
            "/usr/local/lib/python3.7/dist-packages/torchvision/datasets/mnist.py:48: UserWarning: train_labels has been renamed targets\n",
            "  warnings.warn(\"train_labels has been renamed targets\")\n"
          ],
          "name": "stderr"
        },
        {
          "output_type": "stream",
          "text": [
            "Done!\n"
          ],
          "name": "stdout"
        }
      ]
    },
    {
      "cell_type": "code",
      "metadata": {
        "id": "sixth-broadcast",
        "colab": {
          "base_uri": "https://localhost:8080/"
        },
        "outputId": "1fc296a8-a862-47ab-97e3-ca95f5833eb6"
      },
      "source": [
        "!pip show torchvision"
      ],
      "id": "sixth-broadcast",
      "execution_count": 4,
      "outputs": [
        {
          "output_type": "stream",
          "text": [
            "Name: torchvision\n",
            "Version: 0.8.2+cu101\n",
            "Summary: image and video datasets and models for torch deep learning\n",
            "Home-page: https://github.com/pytorch/vision\n",
            "Author: PyTorch Core Team\n",
            "Author-email: soumith@pytorch.org\n",
            "License: BSD\n",
            "Location: /usr/local/lib/python3.7/dist-packages\n",
            "Requires: torch, numpy, pillow\n",
            "Required-by: fastai\n"
          ],
          "name": "stdout"
        }
      ]
    },
    {
      "cell_type": "markdown",
      "metadata": {
        "id": "alien-healing"
      },
      "source": [
        "## Normalization"
      ],
      "id": "alien-healing"
    },
    {
      "cell_type": "markdown",
      "metadata": {
        "id": "rental-cliff"
      },
      "source": [
        "- We want mean to be 0 and standard deviation to be 1 for easier convergence, so we normalize. \n",
        "- Notice how we use train_mean and train_std to normalize valid data as well - that's because we don't want validation dataset to be in a different scale"
      ],
      "id": "rental-cliff"
    },
    {
      "cell_type": "code",
      "metadata": {
        "id": "graduate-stewart",
        "colab": {
          "base_uri": "https://localhost:8080/"
        },
        "outputId": "4f65d57e-46ea-449d-c95d-fb0618b8eae0"
      },
      "source": [
        "# before normalization\n",
        "train_mean, train_std = x_train.mean(), x_train.std()\n",
        "train_mean, train_std"
      ],
      "id": "graduate-stewart",
      "execution_count": 5,
      "outputs": [
        {
          "output_type": "execute_result",
          "data": {
            "text/plain": [
              "(tensor(0.1304), tensor(0.3073))"
            ]
          },
          "metadata": {
            "tags": []
          },
          "execution_count": 5
        }
      ]
    },
    {
      "cell_type": "code",
      "metadata": {
        "id": "weighted-living"
      },
      "source": [
        "x_train = normalize(x_train, train_mean, train_std)\n",
        "x_valid = normalize(x_valid, train_mean, train_std)"
      ],
      "id": "weighted-living",
      "execution_count": 6,
      "outputs": []
    },
    {
      "cell_type": "code",
      "metadata": {
        "id": "controlled-speech",
        "colab": {
          "base_uri": "https://localhost:8080/"
        },
        "outputId": "2592b2fb-7e66-4b9e-fd66-d2bf279f7090"
      },
      "source": [
        "# after normalization\n",
        "train_mean, train_std = x_train.mean(), x_train.std()\n",
        "train_mean, train_std"
      ],
      "id": "controlled-speech",
      "execution_count": 7,
      "outputs": [
        {
          "output_type": "execute_result",
          "data": {
            "text/plain": [
              "(tensor(3.9162e-08), tensor(1.))"
            ]
          },
          "metadata": {
            "tags": []
          },
          "execution_count": 7
        }
      ]
    },
    {
      "cell_type": "code",
      "metadata": {
        "id": "voluntary-brief",
        "colab": {
          "base_uri": "https://localhost:8080/"
        },
        "outputId": "dbf96a46-5a29-4f72-bad1-70437e440823"
      },
      "source": [
        "def assert_is_near_zero(a, threshold=1e-3): assert a.abs() < threshold, f\"{a} is not near zero\"\n",
        "assert_is_near_zero(train_mean)"
      ],
      "id": "voluntary-brief",
      "execution_count": 8,
      "outputs": [
        {
          "output_type": "stream",
          "text": [
            "\n"
          ],
          "name": "stdout"
        }
      ]
    },
    {
      "cell_type": "markdown",
      "metadata": {
        "id": "collect-democrat"
      },
      "source": [
        "## Get shapes"
      ],
      "id": "collect-democrat"
    },
    {
      "cell_type": "code",
      "metadata": {
        "id": "partial-nature",
        "colab": {
          "base_uri": "https://localhost:8080/"
        },
        "outputId": "3f0a829e-fc5a-4f6a-b262-9509853a304e"
      },
      "source": [
        "num_samples, image_size = x_train.shape \n",
        "num_classes = y_train.max() + 1 \n",
        "nh = 50\n",
        "\n",
        "n = num_samples\n",
        "m = image_size\n",
        "c = num_classes\n",
        "\n",
        "n, m, c, nh"
      ],
      "id": "partial-nature",
      "execution_count": 9,
      "outputs": [
        {
          "output_type": "execute_result",
          "data": {
            "text/plain": [
              "(50000, 784, tensor(10.), 50)"
            ]
          },
          "metadata": {
            "tags": []
          },
          "execution_count": 9
        }
      ]
    },
    {
      "cell_type": "markdown",
      "metadata": {
        "id": "equal-service"
      },
      "source": [
        "## Intialization"
      ],
      "id": "equal-service"
    },
    {
      "cell_type": "markdown",
      "metadata": {
        "id": "pediatric-authority"
      },
      "source": [
        "- Initialization is *extremely* important. In 2019, they wrote a paper \"Fixup Initialization: Residual Learning Without Normalization\" in which they trained a 10,000 layer neural net WITHOUT normalization just by initializing everything carefully."
      ],
      "id": "pediatric-authority"
    },
    {
      "cell_type": "markdown",
      "metadata": {
        "id": "democratic-columbia"
      },
      "source": [
        "### Xavier Initialization\n",
        "\n",
        "- To perform Standard Xavier Initialization, you just divide input by the sqrt(num_input_units), which would give you a mean of 0, and standard deviation of 1 / sqrt(m)"
      ],
      "id": "democratic-columbia"
    },
    {
      "cell_type": "code",
      "metadata": {
        "id": "lucky-monroe"
      },
      "source": [
        "def lin(x, w, b): return x@w + b"
      ],
      "id": "lucky-monroe",
      "execution_count": 10,
      "outputs": []
    },
    {
      "cell_type": "code",
      "metadata": {
        "id": "mediterranean-nation",
        "colab": {
          "base_uri": "https://localhost:8080/"
        },
        "outputId": "9095c493-c2cb-448a-9c17-8841e5f54906"
      },
      "source": [
        "# Forward pass without Initialization\n",
        "w1 = torch.randn(m, nh)\n",
        "b1 = torch.zeros(nh)\n",
        "\n",
        "t = lin(x_valid, w1, b1)\n",
        "t.mean(), t.std() # terrible, you want ~ (0,1) (mean,std)"
      ],
      "id": "mediterranean-nation",
      "execution_count": 11,
      "outputs": [
        {
          "output_type": "execute_result",
          "data": {
            "text/plain": [
              "(tensor(4.2580), tensor(27.9143))"
            ]
          },
          "metadata": {
            "tags": []
          },
          "execution_count": 11
        }
      ]
    },
    {
      "cell_type": "code",
      "metadata": {
        "id": "weekly-hurricane",
        "colab": {
          "base_uri": "https://localhost:8080/"
        },
        "outputId": "6c97d68d-a612-4821-da95-cbc488950840"
      },
      "source": [
        "# Forward pass with Standard Xavier Init\n",
        "w1 = torch.randn(m, nh) * math.sqrt(1/m)\n",
        "b1 = torch.zeros(nh)\n",
        "\n",
        "t = lin(x_valid, w1, b1)\n",
        "t.mean(), t.std() # good"
      ],
      "id": "weekly-hurricane",
      "execution_count": 12,
      "outputs": [
        {
          "output_type": "execute_result",
          "data": {
            "text/plain": [
              "(tensor(0.1084), tensor(1.0084))"
            ]
          },
          "metadata": {
            "tags": []
          },
          "execution_count": 12
        }
      ]
    },
    {
      "cell_type": "code",
      "metadata": {
        "id": "confused-privacy"
      },
      "source": [
        "assert_is_near_zero(w1.mean())\n",
        "assert_is_near_zero(w1.std() - 1/math.sqrt(m))"
      ],
      "id": "confused-privacy",
      "execution_count": 13,
      "outputs": []
    },
    {
      "cell_type": "markdown",
      "metadata": {
        "id": "fourth-reverse"
      },
      "source": [
        "### Vanishing Activation/Gradient Problem\n",
        "\n",
        "- Remember after performing the matrix multiplication, you have to pass it through relu, but each time you do that, you cut all activation values that are below 0 to 0 and thereby reduces the standard deviation. If your network is very deep, your standard deviation will keep getting reduced (possibly down to 0)"
      ],
      "id": "fourth-reverse"
    },
    {
      "cell_type": "markdown",
      "metadata": {
        "id": "jewish-arkansas"
      },
      "source": [
        "![Screen Shot 2021-03-02 at 9.20.03 PM.png](attachment:a3f59b8e-febb-4866-8494-d2338a2b0374.png)"
      ],
      "id": "jewish-arkansas"
    },
    {
      "cell_type": "code",
      "metadata": {
        "id": "double-agency",
        "colab": {
          "base_uri": "https://localhost:8080/"
        },
        "outputId": "e2f0450b-3175-46d6-e2d0-b6b28f6be1e7"
      },
      "source": [
        "# clamp_min(n) means replace everything below n with n, in this case, relu means replacing everything negative with 0\n",
        "# always try to use PyTorch function because they're generally implemented in C for you\n",
        "def relu(x): return x.clamp_min(0.) \n",
        "\n",
        "t = relu(lin(x_valid, w1, b1)) \n",
        "t.mean(),t.std()"
      ],
      "id": "double-agency",
      "execution_count": 14,
      "outputs": [
        {
          "output_type": "execute_result",
          "data": {
            "text/plain": [
              "(tensor(0.4561), tensor(0.6275))"
            ]
          },
          "metadata": {
            "tags": []
          },
          "execution_count": 14
        }
      ]
    },
    {
      "cell_type": "markdown",
      "metadata": {
        "id": "decimal-chinese"
      },
      "source": [
        "### Kaiming Initialization\n",
        "- The problem with Xavier Initialization is that it doesn't combat the vanishing gradient problem very well. \n",
        "- Kaiming initialization is almost identical to Xavier initialization but with a 2 on top; it will keep the std around \n",
        "\n",
        "$$\\text{std} = \\sqrt{\\frac{2}{(1 + a^2) \\times \\text{fan_in}}}$$\n",
        "\n",
        "- This was introduced in the paper that described the Imagenet-winning approach from *He et al*: [Delving Deep into Rectifiers](https://arxiv.org/abs/1502.01852), which was also the first paper that claimed \"super-human performance\" on Imagenet (and, most importantly, it introduced resnets as well as Kaiming He initialization!) \n",
        "\n",
        "- So papers by competition winners are very good because they introduce MANY good ideas instead of just one tiny tweak."
      ],
      "id": "decimal-chinese"
    },
    {
      "cell_type": "code",
      "metadata": {
        "id": "level-begin",
        "colab": {
          "base_uri": "https://localhost:8080/"
        },
        "outputId": "dba85e53-17c6-402f-c7d3-8310b9d3e618"
      },
      "source": [
        "# Forward pass with Kaiming Initialization\n",
        "torch.manual_seed(42)\n",
        "w1 = torch.randn(m, nh) * math.sqrt(2/m)\n",
        "b1 = torch.zeros(nh)\n",
        "\n",
        "t = relu(lin(x_valid, w1, b1))\n",
        "t.mean(), t.std() "
      ],
      "id": "level-begin",
      "execution_count": 15,
      "outputs": [
        {
          "output_type": "execute_result",
          "data": {
            "text/plain": [
              "(tensor(0.6624), tensor(0.9097))"
            ]
          },
          "metadata": {
            "tags": []
          },
          "execution_count": 15
        }
      ]
    },
    {
      "cell_type": "code",
      "metadata": {
        "id": "violent-backing",
        "colab": {
          "base_uri": "https://localhost:8080/"
        },
        "outputId": "87b918dc-d2fe-4c38-e03f-e590b70ce95f"
      },
      "source": [
        "# Forward pass with PyTorch's Kaiming Initialization, same thing\n",
        "from torch.nn.init import kaiming_normal_\n",
        "\n",
        "w1 = torch.empty(m, nh)\n",
        "b1 = torch.zeros(nh)\n",
        "\n",
        "torch.manual_seed(42)\n",
        "kaiming_normal_(w1, mode='fan_out')\n",
        "t = relu(lin(x_valid, w1, b1))\n",
        "t.mean(), t.std() "
      ],
      "id": "violent-backing",
      "execution_count": 16,
      "outputs": [
        {
          "output_type": "execute_result",
          "data": {
            "text/plain": [
              "(tensor(0.6624), tensor(0.9097))"
            ]
          },
          "metadata": {
            "tags": []
          },
          "execution_count": 16
        }
      ]
    },
    {
      "cell_type": "markdown",
      "metadata": {
        "id": "preceding-development"
      },
      "source": [
        "- Note: Kaiming initialization is very good but notice the mean is still not zero - we have good reasons to want them to be. So we can define our own new_relu to see if it helps with normalizing the mean. It's an intuitive thing to do and papers are written from these minor tweaks. Maybe it'll help a lot in practice"
      ],
      "id": "preceding-development"
    },
    {
      "cell_type": "code",
      "metadata": {
        "id": "retired-postcard"
      },
      "source": [
        "def new_relu(x): return x.clamp_min(0.) - 0.5"
      ],
      "id": "retired-postcard",
      "execution_count": 17,
      "outputs": []
    },
    {
      "cell_type": "code",
      "metadata": {
        "id": "worldwide-recovery",
        "colab": {
          "base_uri": "https://localhost:8080/"
        },
        "outputId": "4d40aad3-25c2-457a-e69e-99ab40a6a16d"
      },
      "source": [
        "# The new_relu seems to help!\n",
        "torch.manual_seed(42)\n",
        "w1 = torch.randn(m,nh) * math.sqrt(2./m)\n",
        "t1 = new_relu(lin(x_valid, w1, b1))\n",
        "t1.mean(), t1.std()"
      ],
      "id": "worldwide-recovery",
      "execution_count": 18,
      "outputs": [
        {
          "output_type": "execute_result",
          "data": {
            "text/plain": [
              "(tensor(0.1624), tensor(0.9097))"
            ]
          },
          "metadata": {
            "tags": []
          },
          "execution_count": 18
        }
      ]
    },
    {
      "cell_type": "markdown",
      "metadata": {
        "id": "living-hurricane"
      },
      "source": [
        "## Train a Model"
      ],
      "id": "living-hurricane"
    },
    {
      "cell_type": "code",
      "metadata": {
        "id": "inside-marketing"
      },
      "source": [
        "torch.manual_seed(42)\n",
        "\n",
        "w1 = torch.empty(m, nh)\n",
        "b1 = torch.zeros(nh)\n",
        "w2 = torch.randn(nh,1)/math.sqrt(nh)\n",
        "b2 = torch.zeros(1)\n",
        "\n",
        "def model(x):\n",
        "    l1 = lin(x, w1, b1)\n",
        "    l2 = relu(l1)\n",
        "    l3 = lin(l2, w2, b2)\n",
        "    return l3"
      ],
      "id": "inside-marketing",
      "execution_count": 19,
      "outputs": []
    },
    {
      "cell_type": "code",
      "metadata": {
        "id": "departmental-browser",
        "colab": {
          "base_uri": "https://localhost:8080/"
        },
        "outputId": "7a2b8b6b-4800-4f8f-df5c-941961ce6d8b"
      },
      "source": [
        "%timeit -n 10 _=model(x_valid)"
      ],
      "id": "departmental-browser",
      "execution_count": 20,
      "outputs": [
        {
          "output_type": "stream",
          "text": [
            "10 loops, best of 5: 11.6 ms per loop\n"
          ],
          "name": "stdout"
        }
      ]
    },
    {
      "cell_type": "code",
      "metadata": {
        "id": "stuck-omega"
      },
      "source": [
        "assert model(x_valid).shape == torch.Size((x_valid.shape[0],1))"
      ],
      "id": "stuck-omega",
      "execution_count": 21,
      "outputs": []
    },
    {
      "cell_type": "markdown",
      "metadata": {
        "id": "subject-passport"
      },
      "source": [
        "## Loss Function\n",
        "\n",
        "- We wrongly use the MSE for now just for simplicity's sake"
      ],
      "id": "subject-passport"
    },
    {
      "cell_type": "code",
      "metadata": {
        "id": "nuclear-playback"
      },
      "source": [
        "def mse(output, targ): return (output.squeeze(-1) - targ).pow(2).mean()"
      ],
      "id": "nuclear-playback",
      "execution_count": 22,
      "outputs": []
    },
    {
      "cell_type": "code",
      "metadata": {
        "id": "aerial-berry"
      },
      "source": [
        "y_train, y_valid = y_train.float(), y_valid.float()"
      ],
      "id": "aerial-berry",
      "execution_count": 23,
      "outputs": []
    },
    {
      "cell_type": "code",
      "metadata": {
        "id": "worse-ceiling"
      },
      "source": [
        "pred = model(x_train)"
      ],
      "id": "worse-ceiling",
      "execution_count": 24,
      "outputs": []
    },
    {
      "cell_type": "code",
      "metadata": {
        "id": "unavailable-illinois",
        "colab": {
          "base_uri": "https://localhost:8080/"
        },
        "outputId": "be8c0c63-f900-47b3-f71a-d3a7e980b27c"
      },
      "source": [
        "y_train.shape"
      ],
      "id": "unavailable-illinois",
      "execution_count": 25,
      "outputs": [
        {
          "output_type": "execute_result",
          "data": {
            "text/plain": [
              "torch.Size([50000])"
            ]
          },
          "metadata": {
            "tags": []
          },
          "execution_count": 25
        }
      ]
    },
    {
      "cell_type": "code",
      "metadata": {
        "id": "defensive-refund",
        "colab": {
          "base_uri": "https://localhost:8080/"
        },
        "outputId": "ff461e29-ee91-4bdb-c0fc-c0774338e95f"
      },
      "source": [
        "pred.shape # not the exact shape, need to squeeze in mse"
      ],
      "id": "defensive-refund",
      "execution_count": 26,
      "outputs": [
        {
          "output_type": "execute_result",
          "data": {
            "text/plain": [
              "torch.Size([50000, 1])"
            ]
          },
          "metadata": {
            "tags": []
          },
          "execution_count": 26
        }
      ]
    },
    {
      "cell_type": "code",
      "metadata": {
        "id": "retained-marketing",
        "colab": {
          "base_uri": "https://localhost:8080/"
        },
        "outputId": "4f81d883-1590-4d2d-ef07-9f525fd43f63"
      },
      "source": [
        "mse(pred, y_train)"
      ],
      "id": "retained-marketing",
      "execution_count": 27,
      "outputs": [
        {
          "output_type": "execute_result",
          "data": {
            "text/plain": [
              "tensor(23.9959)"
            ]
          },
          "metadata": {
            "tags": []
          },
          "execution_count": 27
        }
      ]
    },
    {
      "cell_type": "markdown",
      "metadata": {
        "id": "alpha-vegetarian"
      },
      "source": [
        "# Backward Pass"
      ],
      "id": "alpha-vegetarian"
    },
    {
      "cell_type": "markdown",
      "metadata": {
        "id": "lonely-anime"
      },
      "source": [
        "- During backward pass, you calculate the gradient of every w1, b1, w2, b2 with respect to the loss\n",
        "- For each of the function below, we take the derivative of each layer in terms of loss, storing the result in thatlayer's .g -- in other words, x.grad stores the result of dloss/dx. Note x is the denominator, the layer.\n",
        "- DON'T RUN THIS FUNCTION LOCALLY ON CPU. IT REQUIRES GPU!"
      ],
      "id": "lonely-anime"
    },
    {
      "cell_type": "code",
      "metadata": {
        "id": "honey-complexity"
      },
      "source": [
        "def mse_grad(inp, targ):\n",
        "    # gradient of loss with respect to the previous layer, so it's pred.grad == dloss/dpred\n",
        "    inp.grad = 2. * (inp.squeeze() - targ).unsqueeze(-1) / inp.shape[0]"
      ],
      "id": "honey-complexity",
      "execution_count": 28,
      "outputs": []
    },
    {
      "cell_type": "code",
      "metadata": {
        "id": "arranged-vermont",
        "colab": {
          "base_uri": "https://localhost:8080/"
        },
        "outputId": "12db2ca4-e909-42a8-f714-fe8b8f4dcf06"
      },
      "source": [
        "def relu_grad(inp, out):\n",
        "    # inp.grad == dloss/dinp == dout/dinp * dloss/dout  \n",
        "    inp.grad = (inp > 0).float() * out.grad"
      ],
      "id": "arranged-vermont",
      "execution_count": 29,
      "outputs": [
        {
          "output_type": "stream",
          "text": [
            "\n",
            "\n"
          ],
          "name": "stdout"
        }
      ]
    },
    {
      "cell_type": "code",
      "metadata": {
        "id": "solar-albuquerque"
      },
      "source": [
        "def lin_grad(inp, out, w, b):\n",
        "    # dloss / dl\n",
        "    inp.grad = out.grad @ w.t() \n",
        "    # dloss / dw\n",
        "    w.grad = (inp.unsqueeze(-1) * out.grad.unsqueeze(1)).sum(0)\n",
        "    # dloss / db\n",
        "    b.grad = out.grad.sum(0)"
      ],
      "id": "solar-albuquerque",
      "execution_count": 30,
      "outputs": []
    },
    {
      "cell_type": "markdown",
      "metadata": {
        "id": "XiBFP-KFn7IC"
      },
      "source": [
        "# Full Pass: Forward + Backward \n"
      ],
      "id": "XiBFP-KFn7IC"
    },
    {
      "cell_type": "code",
      "metadata": {
        "id": "sixth-monkey"
      },
      "source": [
        "from torch.nn import init\n",
        "torch.manual_seed(42)\n",
        "\n",
        "# Our forward + backward loop\n",
        "\n",
        "w1 = torch.zeros(m,nh)\n",
        "init.kaiming_normal_(w1, mode='fan_out')\n",
        "b1 = torch.zeros(nh)\n",
        "w2 = torch.randn(nh,1)/math.sqrt(nh)\n",
        "b2 = torch.zeros(1)\n",
        "\n",
        "def forward_and_backward(inp, target):\n",
        "    # forward\n",
        "    l1 = lin(inp, w1, b1)\n",
        "    l2 = relu(l1)\n",
        "    pred = lin(l2, w2, b2)\n",
        "    loss = mse(pred, target)    \n",
        "    \n",
        "    # backward\n",
        "    # pred.grad = dloss/dpred\n",
        "    mse_grad(pred, target) \n",
        "    # l2.grad = dloss/dl2 = dloss/dpred * dpred/dl2\n",
        "    # w2.grad = dloss/dw2 = dloss/dpred * dpred/dw2\n",
        "    # b2.grad = dloss/db2 = dloss/dpred * dpred/db2\n",
        "    lin_grad(l2, pred, w2, b2) \n",
        "    # l1.grad = dloss/dl1 = dloss/dl2 * dl2/dl1\n",
        "    relu_grad(l1, l2)\n",
        "    # x.grad = dloss/dx = dloss/dl1 * dl1/dx\n",
        "    # w1.grad = dloss/dw1 = dloss/dl1 * dl1/dw1\n",
        "    # b1.grad = dloss/db1 = dloss/dl1 * dl1/db1\n",
        "    lin_grad(inp, l1, w1, b1)\n",
        "\n",
        "forward_and_backward(x_train, y_train)"
      ],
      "id": "sixth-monkey",
      "execution_count": 31,
      "outputs": []
    },
    {
      "cell_type": "code",
      "metadata": {
        "id": "ha6vQHRhlWxP"
      },
      "source": [
        "# pytorch's forward + backward loop\n",
        "w1_2 = w1.clone().requires_grad_(True)\n",
        "w2_2 = w2.clone().requires_grad_(True)\n",
        "b1_2 = b1.clone().requires_grad_(True)\n",
        "b2_2 = b2.clone().requires_grad_(True)\n",
        "x_train_2 = x_train.clone().requires_grad_(True)\n",
        "\n",
        "def forward(inp, targ):\n",
        "    # forward pass:\n",
        "    l1 = lin(inp, w1_2, b1_2)\n",
        "    l2 = relu(l1)\n",
        "    pred = lin(l2, w2_2, b2_2)\n",
        "    # we don't actually need the loss in backward!\n",
        "    return mse(pred, targ) \n",
        "\n",
        "loss = forward(x_train_2, y_train)\n",
        "loss.backward()"
      ],
      "id": "ha6vQHRhlWxP",
      "execution_count": 32,
      "outputs": []
    },
    {
      "cell_type": "code",
      "metadata": {
        "id": "IaK8ZibumHKV"
      },
      "source": [
        "test_near(w1_2.grad, w1.grad)\n",
        "test_near(w2_2.grad, w2.grad)\n",
        "test_near(b1_2.grad, b1.grad)\n",
        "test_near(b2_2.grad, b2.grad)\n",
        "test_near(x_train_2.grad, x_train.grad)"
      ],
      "id": "IaK8ZibumHKV",
      "execution_count": 33,
      "outputs": []
    },
    {
      "cell_type": "markdown",
      "metadata": {
        "id": "XL1Bc7s-wOKl"
      },
      "source": [
        "# Refactor Forward & Backward Functions into Same Classes"
      ],
      "id": "XL1Bc7s-wOKl"
    },
    {
      "cell_type": "code",
      "metadata": {
        "id": "-kW-BUVJwRl_"
      },
      "source": [
        "class Relu():\n",
        "  def __call__(self, input):\n",
        "    self.input = input\n",
        "    self.output = input.clamp_min(0.) \n",
        "    return self.output\n",
        "\n",
        "  def backward(self):\n",
        "    self.input.grad = (self.input > 0).float() * self.output.grad"
      ],
      "id": "-kW-BUVJwRl_",
      "execution_count": 70,
      "outputs": []
    },
    {
      "cell_type": "code",
      "metadata": {
        "id": "tQZOL0VixycG"
      },
      "source": [
        "class Lin():\n",
        "  def __init__(self, w, b): \n",
        "    self.w = w\n",
        "    self.b = b\n",
        "\n",
        "  def __call__(self, input):\n",
        "    self.input = input\n",
        "    self.output = input@self.w + self.b\n",
        "    return self.output\n",
        "  \n",
        "  def backward(self):\n",
        "    self.input.grad = self.output.grad @ self.w.t()\n",
        "    self.w.grad = (self.input.unsqueeze(-1) * self.output.grad.unsqueeze(1)).sum(0)\n",
        "    self.b.grad = self.output.grad.sum(0)"
      ],
      "id": "tQZOL0VixycG",
      "execution_count": 71,
      "outputs": []
    },
    {
      "cell_type": "code",
      "metadata": {
        "id": "6OV__0al0isF"
      },
      "source": [
        "class Mse():\n",
        "  def __call__(self, pred, targ):\n",
        "    self.pred = pred\n",
        "    self.targ = targ\n",
        "    return (pred.squeeze(-1) - targ).pow(2).mean()\n",
        "\n",
        "  def backward(self):\n",
        "    self.pred.grad = 2. * (self.pred.squeeze() - self.targ).unsqueeze(-1) / self.pred.shape[0]"
      ],
      "id": "6OV__0al0isF",
      "execution_count": 72,
      "outputs": []
    },
    {
      "cell_type": "code",
      "metadata": {
        "id": "wqxsMKb_67Ks"
      },
      "source": [
        "class Model:\n",
        "  def __init__(self, w1, w2, b1, b2):\n",
        "    self.layers = [Lin(w1, b1), Relu(), Lin(w2, b2)]\n",
        "    self.loss = Mse()\n",
        "  \n",
        "  def __call__(self, x, target):\n",
        "    num = 1\n",
        "    for layer in self.layers:\n",
        "      print(\"forwarding layer \", num)\n",
        "      num += 1\n",
        "      x = layer(x)\n",
        "    return self.loss(x, target)\n",
        "  \n",
        "  def backward(self):\n",
        "    self.loss.backward()\n",
        "    for layer in reversed(self.layers):\n",
        "      layer.backward()"
      ],
      "id": "wqxsMKb_67Ks",
      "execution_count": 73,
      "outputs": []
    },
    {
      "cell_type": "code",
      "metadata": {
        "colab": {
          "base_uri": "https://localhost:8080/"
        },
        "id": "x7WjVuZu0dtr",
        "outputId": "9589d93c-308b-49b6-fa79-8ad83367e2d3"
      },
      "source": [
        "w1.grad, b1.grad, w2.grad, b2.grad = [None for _ in range(4)]; print(w1.grad, b1.grad, w2.grad, b2.grad)\n",
        "model = Model(w1, w2, b1, b2)"
      ],
      "id": "x7WjVuZu0dtr",
      "execution_count": 74,
      "outputs": [
        {
          "output_type": "stream",
          "text": [
            "None None None None\n"
          ],
          "name": "stdout"
        }
      ]
    },
    {
      "cell_type": "code",
      "metadata": {
        "colab": {
          "base_uri": "https://localhost:8080/"
        },
        "id": "dcOV3I8TxoLm",
        "outputId": "ff7fe29d-275e-4129-e182-73829c9ec63a"
      },
      "source": [
        "# forward pass\n",
        "%time loss = model(x_train, y_train)"
      ],
      "id": "dcOV3I8TxoLm",
      "execution_count": 75,
      "outputs": [
        {
          "output_type": "stream",
          "text": [
            "forwarding layer  1\n",
            "forwarding layer  2\n",
            "forwarding layer  3\n",
            "CPU times: user 117 ms, sys: 1.38 ms, total: 118 ms\n",
            "Wall time: 59.6 ms\n"
          ],
          "name": "stdout"
        }
      ]
    },
    {
      "cell_type": "code",
      "metadata": {
        "colab": {
          "base_uri": "https://localhost:8080/"
        },
        "id": "UYs13Swh0ISH",
        "outputId": "f522a45c-b3fb-4294-b2c5-ccdb04f742ef"
      },
      "source": [
        "# backward pass\n",
        "%time model.backward()"
      ],
      "id": "UYs13Swh0ISH",
      "execution_count": 76,
      "outputs": [
        {
          "output_type": "stream",
          "text": [
            "CPU times: user 4 s, sys: 10.3 s, total: 14.3 s\n",
            "Wall time: 7.36 s\n"
          ],
          "name": "stdout"
        }
      ]
    },
    {
      "cell_type": "code",
      "metadata": {
        "id": "5TsDON1d0cGE"
      },
      "source": [
        "test_near(w1_2.grad, w1.grad)\n",
        "test_near(w2_2.grad, w2.grad)\n",
        "test_near(b1_2.grad, b1.grad)\n",
        "test_near(b2_2.grad, b2.grad)\n",
        "test_near(x_train_2.grad, x_train.grad)"
      ],
      "id": "5TsDON1d0cGE",
      "execution_count": 77,
      "outputs": []
    },
    {
      "cell_type": "markdown",
      "metadata": {
        "id": "xxsd4eZPAVuo"
      },
      "source": [
        "# Refactor out Repetitive Code"
      ],
      "id": "xxsd4eZPAVuo"
    },
    {
      "cell_type": "code",
      "metadata": {
        "id": "a4zP9r2JAk_a"
      },
      "source": [
        ""
      ],
      "id": "a4zP9r2JAk_a",
      "execution_count": null,
      "outputs": []
    },
    {
      "cell_type": "markdown",
      "metadata": {
        "id": "BjVJ6b6hAg8I"
      },
      "source": [
        "# Improve Performance with / without Einsum"
      ],
      "id": "BjVJ6b6hAg8I"
    },
    {
      "cell_type": "code",
      "metadata": {
        "id": "v6qscL-fAlWy"
      },
      "source": [
        ""
      ],
      "id": "v6qscL-fAlWy",
      "execution_count": null,
      "outputs": []
    },
    {
      "cell_type": "markdown",
      "metadata": {
        "id": "terminal-general"
      },
      "source": [
        "# Checkpoint: https://course19.fast.ai/videos/?lesson=8 , 1:58:04"
      ],
      "id": "terminal-general"
    },
    {
      "cell_type": "code",
      "metadata": {
        "id": "0vVgINo1oTqo"
      },
      "source": [
        ""
      ],
      "id": "0vVgINo1oTqo",
      "execution_count": 34,
      "outputs": []
    }
  ]
}