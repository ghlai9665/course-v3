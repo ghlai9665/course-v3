{
  "nbformat": 4,
  "nbformat_minor": 5,
  "metadata": {
    "kernelspec": {
      "display_name": "Python 3",
      "language": "python",
      "name": "python3"
    },
    "language_info": {
      "codemirror_mode": {
        "name": "ipython",
        "version": 3
      },
      "file_extension": ".py",
      "mimetype": "text/x-python",
      "name": "python",
      "nbconvert_exporter": "python",
      "pygments_lexer": "ipython3",
      "version": "3.8.5"
    },
    "colab": {
      "name": "colab_gary_study_notes.ipynb",
      "provenance": [],
      "collapsed_sections": [
        "fourth-reverse",
        "decimal-chinese"
      ],
      "machine_shape": "hm",
      "include_colab_link": true
    },
    "widgets": {
      "application/vnd.jupyter.widget-state+json": {
        "53efb99779fc499cbb02dc2fa818bd70": {
          "model_module": "@jupyter-widgets/controls",
          "model_name": "HBoxModel",
          "state": {
            "_view_name": "HBoxView",
            "_dom_classes": [],
            "_model_name": "HBoxModel",
            "_view_module": "@jupyter-widgets/controls",
            "_model_module_version": "1.5.0",
            "_view_count": null,
            "_view_module_version": "1.5.0",
            "box_style": "",
            "layout": "IPY_MODEL_e69d42af4c244ff68158db85bab9df88",
            "_model_module": "@jupyter-widgets/controls",
            "children": [
              "IPY_MODEL_70dbee041f9d469c8f8e082ddec368e2",
              "IPY_MODEL_aaf23e9acc05447ba4deee80a7ab3765"
            ]
          }
        },
        "e69d42af4c244ff68158db85bab9df88": {
          "model_module": "@jupyter-widgets/base",
          "model_name": "LayoutModel",
          "state": {
            "_view_name": "LayoutView",
            "grid_template_rows": null,
            "right": null,
            "justify_content": null,
            "_view_module": "@jupyter-widgets/base",
            "overflow": null,
            "_model_module_version": "1.2.0",
            "_view_count": null,
            "flex_flow": null,
            "width": null,
            "min_width": null,
            "border": null,
            "align_items": null,
            "bottom": null,
            "_model_module": "@jupyter-widgets/base",
            "top": null,
            "grid_column": null,
            "overflow_y": null,
            "overflow_x": null,
            "grid_auto_flow": null,
            "grid_area": null,
            "grid_template_columns": null,
            "flex": null,
            "_model_name": "LayoutModel",
            "justify_items": null,
            "grid_row": null,
            "max_height": null,
            "align_content": null,
            "visibility": null,
            "align_self": null,
            "height": null,
            "min_height": null,
            "padding": null,
            "grid_auto_rows": null,
            "grid_gap": null,
            "max_width": null,
            "order": null,
            "_view_module_version": "1.2.0",
            "grid_template_areas": null,
            "object_position": null,
            "object_fit": null,
            "grid_auto_columns": null,
            "margin": null,
            "display": null,
            "left": null
          }
        },
        "70dbee041f9d469c8f8e082ddec368e2": {
          "model_module": "@jupyter-widgets/controls",
          "model_name": "FloatProgressModel",
          "state": {
            "_view_name": "ProgressView",
            "style": "IPY_MODEL_b0042aaf00ba4c5399c6021b021bab6a",
            "_dom_classes": [],
            "description": "",
            "_model_name": "FloatProgressModel",
            "bar_style": "success",
            "max": 1,
            "_view_module": "@jupyter-widgets/controls",
            "_model_module_version": "1.5.0",
            "value": 1,
            "_view_count": null,
            "_view_module_version": "1.5.0",
            "orientation": "horizontal",
            "min": 0,
            "description_tooltip": null,
            "_model_module": "@jupyter-widgets/controls",
            "layout": "IPY_MODEL_23be781018df4f0d822b94a8da3c54c2"
          }
        },
        "aaf23e9acc05447ba4deee80a7ab3765": {
          "model_module": "@jupyter-widgets/controls",
          "model_name": "HTMLModel",
          "state": {
            "_view_name": "HTMLView",
            "style": "IPY_MODEL_79e1b976fa9c4398a3cb2ed064342d2e",
            "_dom_classes": [],
            "description": "",
            "_model_name": "HTMLModel",
            "placeholder": "​",
            "_view_module": "@jupyter-widgets/controls",
            "_model_module_version": "1.5.0",
            "value": " 9920512/? [00:09&lt;00:00, 1008560.87it/s]",
            "_view_count": null,
            "_view_module_version": "1.5.0",
            "description_tooltip": null,
            "_model_module": "@jupyter-widgets/controls",
            "layout": "IPY_MODEL_42b3d5986c284a0b9a758b4cc1a4725c"
          }
        },
        "b0042aaf00ba4c5399c6021b021bab6a": {
          "model_module": "@jupyter-widgets/controls",
          "model_name": "ProgressStyleModel",
          "state": {
            "_view_name": "StyleView",
            "_model_name": "ProgressStyleModel",
            "description_width": "initial",
            "_view_module": "@jupyter-widgets/base",
            "_model_module_version": "1.5.0",
            "_view_count": null,
            "_view_module_version": "1.2.0",
            "bar_color": null,
            "_model_module": "@jupyter-widgets/controls"
          }
        },
        "23be781018df4f0d822b94a8da3c54c2": {
          "model_module": "@jupyter-widgets/base",
          "model_name": "LayoutModel",
          "state": {
            "_view_name": "LayoutView",
            "grid_template_rows": null,
            "right": null,
            "justify_content": null,
            "_view_module": "@jupyter-widgets/base",
            "overflow": null,
            "_model_module_version": "1.2.0",
            "_view_count": null,
            "flex_flow": null,
            "width": null,
            "min_width": null,
            "border": null,
            "align_items": null,
            "bottom": null,
            "_model_module": "@jupyter-widgets/base",
            "top": null,
            "grid_column": null,
            "overflow_y": null,
            "overflow_x": null,
            "grid_auto_flow": null,
            "grid_area": null,
            "grid_template_columns": null,
            "flex": null,
            "_model_name": "LayoutModel",
            "justify_items": null,
            "grid_row": null,
            "max_height": null,
            "align_content": null,
            "visibility": null,
            "align_self": null,
            "height": null,
            "min_height": null,
            "padding": null,
            "grid_auto_rows": null,
            "grid_gap": null,
            "max_width": null,
            "order": null,
            "_view_module_version": "1.2.0",
            "grid_template_areas": null,
            "object_position": null,
            "object_fit": null,
            "grid_auto_columns": null,
            "margin": null,
            "display": null,
            "left": null
          }
        },
        "79e1b976fa9c4398a3cb2ed064342d2e": {
          "model_module": "@jupyter-widgets/controls",
          "model_name": "DescriptionStyleModel",
          "state": {
            "_view_name": "StyleView",
            "_model_name": "DescriptionStyleModel",
            "description_width": "",
            "_view_module": "@jupyter-widgets/base",
            "_model_module_version": "1.5.0",
            "_view_count": null,
            "_view_module_version": "1.2.0",
            "_model_module": "@jupyter-widgets/controls"
          }
        },
        "42b3d5986c284a0b9a758b4cc1a4725c": {
          "model_module": "@jupyter-widgets/base",
          "model_name": "LayoutModel",
          "state": {
            "_view_name": "LayoutView",
            "grid_template_rows": null,
            "right": null,
            "justify_content": null,
            "_view_module": "@jupyter-widgets/base",
            "overflow": null,
            "_model_module_version": "1.2.0",
            "_view_count": null,
            "flex_flow": null,
            "width": null,
            "min_width": null,
            "border": null,
            "align_items": null,
            "bottom": null,
            "_model_module": "@jupyter-widgets/base",
            "top": null,
            "grid_column": null,
            "overflow_y": null,
            "overflow_x": null,
            "grid_auto_flow": null,
            "grid_area": null,
            "grid_template_columns": null,
            "flex": null,
            "_model_name": "LayoutModel",
            "justify_items": null,
            "grid_row": null,
            "max_height": null,
            "align_content": null,
            "visibility": null,
            "align_self": null,
            "height": null,
            "min_height": null,
            "padding": null,
            "grid_auto_rows": null,
            "grid_gap": null,
            "max_width": null,
            "order": null,
            "_view_module_version": "1.2.0",
            "grid_template_areas": null,
            "object_position": null,
            "object_fit": null,
            "grid_auto_columns": null,
            "margin": null,
            "display": null,
            "left": null
          }
        },
        "df83a7b9236d45ebbb6bb3b3bceec35a": {
          "model_module": "@jupyter-widgets/controls",
          "model_name": "HBoxModel",
          "state": {
            "_view_name": "HBoxView",
            "_dom_classes": [],
            "_model_name": "HBoxModel",
            "_view_module": "@jupyter-widgets/controls",
            "_model_module_version": "1.5.0",
            "_view_count": null,
            "_view_module_version": "1.5.0",
            "box_style": "",
            "layout": "IPY_MODEL_d99ca7287a074544bb40ec20b95bd5fc",
            "_model_module": "@jupyter-widgets/controls",
            "children": [
              "IPY_MODEL_1b06950cdc8f479f98ff3b23997a4d5d",
              "IPY_MODEL_3aee580b5f954bc7b5fa39203849ca59"
            ]
          }
        },
        "d99ca7287a074544bb40ec20b95bd5fc": {
          "model_module": "@jupyter-widgets/base",
          "model_name": "LayoutModel",
          "state": {
            "_view_name": "LayoutView",
            "grid_template_rows": null,
            "right": null,
            "justify_content": null,
            "_view_module": "@jupyter-widgets/base",
            "overflow": null,
            "_model_module_version": "1.2.0",
            "_view_count": null,
            "flex_flow": null,
            "width": null,
            "min_width": null,
            "border": null,
            "align_items": null,
            "bottom": null,
            "_model_module": "@jupyter-widgets/base",
            "top": null,
            "grid_column": null,
            "overflow_y": null,
            "overflow_x": null,
            "grid_auto_flow": null,
            "grid_area": null,
            "grid_template_columns": null,
            "flex": null,
            "_model_name": "LayoutModel",
            "justify_items": null,
            "grid_row": null,
            "max_height": null,
            "align_content": null,
            "visibility": null,
            "align_self": null,
            "height": null,
            "min_height": null,
            "padding": null,
            "grid_auto_rows": null,
            "grid_gap": null,
            "max_width": null,
            "order": null,
            "_view_module_version": "1.2.0",
            "grid_template_areas": null,
            "object_position": null,
            "object_fit": null,
            "grid_auto_columns": null,
            "margin": null,
            "display": null,
            "left": null
          }
        },
        "1b06950cdc8f479f98ff3b23997a4d5d": {
          "model_module": "@jupyter-widgets/controls",
          "model_name": "FloatProgressModel",
          "state": {
            "_view_name": "ProgressView",
            "style": "IPY_MODEL_44d3109027db4f1bbf685ab3003414e8",
            "_dom_classes": [],
            "description": "",
            "_model_name": "FloatProgressModel",
            "bar_style": "success",
            "max": 1,
            "_view_module": "@jupyter-widgets/controls",
            "_model_module_version": "1.5.0",
            "value": 1,
            "_view_count": null,
            "_view_module_version": "1.5.0",
            "orientation": "horizontal",
            "min": 0,
            "description_tooltip": null,
            "_model_module": "@jupyter-widgets/controls",
            "layout": "IPY_MODEL_b23b101986914bcb8f51c839959f0dcf"
          }
        },
        "3aee580b5f954bc7b5fa39203849ca59": {
          "model_module": "@jupyter-widgets/controls",
          "model_name": "HTMLModel",
          "state": {
            "_view_name": "HTMLView",
            "style": "IPY_MODEL_0f775c7211bb4cf397c5160278148d40",
            "_dom_classes": [],
            "description": "",
            "_model_name": "HTMLModel",
            "placeholder": "​",
            "_view_module": "@jupyter-widgets/controls",
            "_model_module_version": "1.5.0",
            "value": " 32768/? [00:00&lt;00:00, 33544.05it/s]",
            "_view_count": null,
            "_view_module_version": "1.5.0",
            "description_tooltip": null,
            "_model_module": "@jupyter-widgets/controls",
            "layout": "IPY_MODEL_894bb83acd7c4f9695add04113157a03"
          }
        },
        "44d3109027db4f1bbf685ab3003414e8": {
          "model_module": "@jupyter-widgets/controls",
          "model_name": "ProgressStyleModel",
          "state": {
            "_view_name": "StyleView",
            "_model_name": "ProgressStyleModel",
            "description_width": "initial",
            "_view_module": "@jupyter-widgets/base",
            "_model_module_version": "1.5.0",
            "_view_count": null,
            "_view_module_version": "1.2.0",
            "bar_color": null,
            "_model_module": "@jupyter-widgets/controls"
          }
        },
        "b23b101986914bcb8f51c839959f0dcf": {
          "model_module": "@jupyter-widgets/base",
          "model_name": "LayoutModel",
          "state": {
            "_view_name": "LayoutView",
            "grid_template_rows": null,
            "right": null,
            "justify_content": null,
            "_view_module": "@jupyter-widgets/base",
            "overflow": null,
            "_model_module_version": "1.2.0",
            "_view_count": null,
            "flex_flow": null,
            "width": null,
            "min_width": null,
            "border": null,
            "align_items": null,
            "bottom": null,
            "_model_module": "@jupyter-widgets/base",
            "top": null,
            "grid_column": null,
            "overflow_y": null,
            "overflow_x": null,
            "grid_auto_flow": null,
            "grid_area": null,
            "grid_template_columns": null,
            "flex": null,
            "_model_name": "LayoutModel",
            "justify_items": null,
            "grid_row": null,
            "max_height": null,
            "align_content": null,
            "visibility": null,
            "align_self": null,
            "height": null,
            "min_height": null,
            "padding": null,
            "grid_auto_rows": null,
            "grid_gap": null,
            "max_width": null,
            "order": null,
            "_view_module_version": "1.2.0",
            "grid_template_areas": null,
            "object_position": null,
            "object_fit": null,
            "grid_auto_columns": null,
            "margin": null,
            "display": null,
            "left": null
          }
        },
        "0f775c7211bb4cf397c5160278148d40": {
          "model_module": "@jupyter-widgets/controls",
          "model_name": "DescriptionStyleModel",
          "state": {
            "_view_name": "StyleView",
            "_model_name": "DescriptionStyleModel",
            "description_width": "",
            "_view_module": "@jupyter-widgets/base",
            "_model_module_version": "1.5.0",
            "_view_count": null,
            "_view_module_version": "1.2.0",
            "_model_module": "@jupyter-widgets/controls"
          }
        },
        "894bb83acd7c4f9695add04113157a03": {
          "model_module": "@jupyter-widgets/base",
          "model_name": "LayoutModel",
          "state": {
            "_view_name": "LayoutView",
            "grid_template_rows": null,
            "right": null,
            "justify_content": null,
            "_view_module": "@jupyter-widgets/base",
            "overflow": null,
            "_model_module_version": "1.2.0",
            "_view_count": null,
            "flex_flow": null,
            "width": null,
            "min_width": null,
            "border": null,
            "align_items": null,
            "bottom": null,
            "_model_module": "@jupyter-widgets/base",
            "top": null,
            "grid_column": null,
            "overflow_y": null,
            "overflow_x": null,
            "grid_auto_flow": null,
            "grid_area": null,
            "grid_template_columns": null,
            "flex": null,
            "_model_name": "LayoutModel",
            "justify_items": null,
            "grid_row": null,
            "max_height": null,
            "align_content": null,
            "visibility": null,
            "align_self": null,
            "height": null,
            "min_height": null,
            "padding": null,
            "grid_auto_rows": null,
            "grid_gap": null,
            "max_width": null,
            "order": null,
            "_view_module_version": "1.2.0",
            "grid_template_areas": null,
            "object_position": null,
            "object_fit": null,
            "grid_auto_columns": null,
            "margin": null,
            "display": null,
            "left": null
          }
        },
        "f5440e69391c4ca18ec63cacd6e17879": {
          "model_module": "@jupyter-widgets/controls",
          "model_name": "HBoxModel",
          "state": {
            "_view_name": "HBoxView",
            "_dom_classes": [],
            "_model_name": "HBoxModel",
            "_view_module": "@jupyter-widgets/controls",
            "_model_module_version": "1.5.0",
            "_view_count": null,
            "_view_module_version": "1.5.0",
            "box_style": "",
            "layout": "IPY_MODEL_a9205ffe570945478027145ff44c626b",
            "_model_module": "@jupyter-widgets/controls",
            "children": [
              "IPY_MODEL_21ce7e6f4590421da1f6a4d7615440c6",
              "IPY_MODEL_85f62679b8ec49a2aad6a7b15b5e0bd8"
            ]
          }
        },
        "a9205ffe570945478027145ff44c626b": {
          "model_module": "@jupyter-widgets/base",
          "model_name": "LayoutModel",
          "state": {
            "_view_name": "LayoutView",
            "grid_template_rows": null,
            "right": null,
            "justify_content": null,
            "_view_module": "@jupyter-widgets/base",
            "overflow": null,
            "_model_module_version": "1.2.0",
            "_view_count": null,
            "flex_flow": null,
            "width": null,
            "min_width": null,
            "border": null,
            "align_items": null,
            "bottom": null,
            "_model_module": "@jupyter-widgets/base",
            "top": null,
            "grid_column": null,
            "overflow_y": null,
            "overflow_x": null,
            "grid_auto_flow": null,
            "grid_area": null,
            "grid_template_columns": null,
            "flex": null,
            "_model_name": "LayoutModel",
            "justify_items": null,
            "grid_row": null,
            "max_height": null,
            "align_content": null,
            "visibility": null,
            "align_self": null,
            "height": null,
            "min_height": null,
            "padding": null,
            "grid_auto_rows": null,
            "grid_gap": null,
            "max_width": null,
            "order": null,
            "_view_module_version": "1.2.0",
            "grid_template_areas": null,
            "object_position": null,
            "object_fit": null,
            "grid_auto_columns": null,
            "margin": null,
            "display": null,
            "left": null
          }
        },
        "21ce7e6f4590421da1f6a4d7615440c6": {
          "model_module": "@jupyter-widgets/controls",
          "model_name": "FloatProgressModel",
          "state": {
            "_view_name": "ProgressView",
            "style": "IPY_MODEL_19f97d1e8d2f40eb8d7f146f08095c16",
            "_dom_classes": [],
            "description": "",
            "_model_name": "FloatProgressModel",
            "bar_style": "success",
            "max": 1,
            "_view_module": "@jupyter-widgets/controls",
            "_model_module_version": "1.5.0",
            "value": 1,
            "_view_count": null,
            "_view_module_version": "1.5.0",
            "orientation": "horizontal",
            "min": 0,
            "description_tooltip": null,
            "_model_module": "@jupyter-widgets/controls",
            "layout": "IPY_MODEL_6ea48396ad9e40239730db64cae0c25a"
          }
        },
        "85f62679b8ec49a2aad6a7b15b5e0bd8": {
          "model_module": "@jupyter-widgets/controls",
          "model_name": "HTMLModel",
          "state": {
            "_view_name": "HTMLView",
            "style": "IPY_MODEL_87a335f6b06449d791f0ebee763427f2",
            "_dom_classes": [],
            "description": "",
            "_model_name": "HTMLModel",
            "placeholder": "​",
            "_view_module": "@jupyter-widgets/controls",
            "_model_module_version": "1.5.0",
            "value": " 1654784/? [00:05&lt;00:00, 284571.38it/s]",
            "_view_count": null,
            "_view_module_version": "1.5.0",
            "description_tooltip": null,
            "_model_module": "@jupyter-widgets/controls",
            "layout": "IPY_MODEL_839e7294d3c3440c8a5695639a8b4738"
          }
        },
        "19f97d1e8d2f40eb8d7f146f08095c16": {
          "model_module": "@jupyter-widgets/controls",
          "model_name": "ProgressStyleModel",
          "state": {
            "_view_name": "StyleView",
            "_model_name": "ProgressStyleModel",
            "description_width": "initial",
            "_view_module": "@jupyter-widgets/base",
            "_model_module_version": "1.5.0",
            "_view_count": null,
            "_view_module_version": "1.2.0",
            "bar_color": null,
            "_model_module": "@jupyter-widgets/controls"
          }
        },
        "6ea48396ad9e40239730db64cae0c25a": {
          "model_module": "@jupyter-widgets/base",
          "model_name": "LayoutModel",
          "state": {
            "_view_name": "LayoutView",
            "grid_template_rows": null,
            "right": null,
            "justify_content": null,
            "_view_module": "@jupyter-widgets/base",
            "overflow": null,
            "_model_module_version": "1.2.0",
            "_view_count": null,
            "flex_flow": null,
            "width": null,
            "min_width": null,
            "border": null,
            "align_items": null,
            "bottom": null,
            "_model_module": "@jupyter-widgets/base",
            "top": null,
            "grid_column": null,
            "overflow_y": null,
            "overflow_x": null,
            "grid_auto_flow": null,
            "grid_area": null,
            "grid_template_columns": null,
            "flex": null,
            "_model_name": "LayoutModel",
            "justify_items": null,
            "grid_row": null,
            "max_height": null,
            "align_content": null,
            "visibility": null,
            "align_self": null,
            "height": null,
            "min_height": null,
            "padding": null,
            "grid_auto_rows": null,
            "grid_gap": null,
            "max_width": null,
            "order": null,
            "_view_module_version": "1.2.0",
            "grid_template_areas": null,
            "object_position": null,
            "object_fit": null,
            "grid_auto_columns": null,
            "margin": null,
            "display": null,
            "left": null
          }
        },
        "87a335f6b06449d791f0ebee763427f2": {
          "model_module": "@jupyter-widgets/controls",
          "model_name": "DescriptionStyleModel",
          "state": {
            "_view_name": "StyleView",
            "_model_name": "DescriptionStyleModel",
            "description_width": "",
            "_view_module": "@jupyter-widgets/base",
            "_model_module_version": "1.5.0",
            "_view_count": null,
            "_view_module_version": "1.2.0",
            "_model_module": "@jupyter-widgets/controls"
          }
        },
        "839e7294d3c3440c8a5695639a8b4738": {
          "model_module": "@jupyter-widgets/base",
          "model_name": "LayoutModel",
          "state": {
            "_view_name": "LayoutView",
            "grid_template_rows": null,
            "right": null,
            "justify_content": null,
            "_view_module": "@jupyter-widgets/base",
            "overflow": null,
            "_model_module_version": "1.2.0",
            "_view_count": null,
            "flex_flow": null,
            "width": null,
            "min_width": null,
            "border": null,
            "align_items": null,
            "bottom": null,
            "_model_module": "@jupyter-widgets/base",
            "top": null,
            "grid_column": null,
            "overflow_y": null,
            "overflow_x": null,
            "grid_auto_flow": null,
            "grid_area": null,
            "grid_template_columns": null,
            "flex": null,
            "_model_name": "LayoutModel",
            "justify_items": null,
            "grid_row": null,
            "max_height": null,
            "align_content": null,
            "visibility": null,
            "align_self": null,
            "height": null,
            "min_height": null,
            "padding": null,
            "grid_auto_rows": null,
            "grid_gap": null,
            "max_width": null,
            "order": null,
            "_view_module_version": "1.2.0",
            "grid_template_areas": null,
            "object_position": null,
            "object_fit": null,
            "grid_auto_columns": null,
            "margin": null,
            "display": null,
            "left": null
          }
        },
        "ccaa38e8eb3f42d989c646bba34e39a3": {
          "model_module": "@jupyter-widgets/controls",
          "model_name": "HBoxModel",
          "state": {
            "_view_name": "HBoxView",
            "_dom_classes": [],
            "_model_name": "HBoxModel",
            "_view_module": "@jupyter-widgets/controls",
            "_model_module_version": "1.5.0",
            "_view_count": null,
            "_view_module_version": "1.5.0",
            "box_style": "",
            "layout": "IPY_MODEL_5a20f678bc0a43408988b67a9c115884",
            "_model_module": "@jupyter-widgets/controls",
            "children": [
              "IPY_MODEL_5eda4570725b40998c5c91abecae50dc",
              "IPY_MODEL_d9ac8257d4c440149cd28f5d050ece6e"
            ]
          }
        },
        "5a20f678bc0a43408988b67a9c115884": {
          "model_module": "@jupyter-widgets/base",
          "model_name": "LayoutModel",
          "state": {
            "_view_name": "LayoutView",
            "grid_template_rows": null,
            "right": null,
            "justify_content": null,
            "_view_module": "@jupyter-widgets/base",
            "overflow": null,
            "_model_module_version": "1.2.0",
            "_view_count": null,
            "flex_flow": null,
            "width": null,
            "min_width": null,
            "border": null,
            "align_items": null,
            "bottom": null,
            "_model_module": "@jupyter-widgets/base",
            "top": null,
            "grid_column": null,
            "overflow_y": null,
            "overflow_x": null,
            "grid_auto_flow": null,
            "grid_area": null,
            "grid_template_columns": null,
            "flex": null,
            "_model_name": "LayoutModel",
            "justify_items": null,
            "grid_row": null,
            "max_height": null,
            "align_content": null,
            "visibility": null,
            "align_self": null,
            "height": null,
            "min_height": null,
            "padding": null,
            "grid_auto_rows": null,
            "grid_gap": null,
            "max_width": null,
            "order": null,
            "_view_module_version": "1.2.0",
            "grid_template_areas": null,
            "object_position": null,
            "object_fit": null,
            "grid_auto_columns": null,
            "margin": null,
            "display": null,
            "left": null
          }
        },
        "5eda4570725b40998c5c91abecae50dc": {
          "model_module": "@jupyter-widgets/controls",
          "model_name": "FloatProgressModel",
          "state": {
            "_view_name": "ProgressView",
            "style": "IPY_MODEL_d996155c8fa74cb29283f2c24438ff02",
            "_dom_classes": [],
            "description": "",
            "_model_name": "FloatProgressModel",
            "bar_style": "success",
            "max": 1,
            "_view_module": "@jupyter-widgets/controls",
            "_model_module_version": "1.5.0",
            "value": 1,
            "_view_count": null,
            "_view_module_version": "1.5.0",
            "orientation": "horizontal",
            "min": 0,
            "description_tooltip": null,
            "_model_module": "@jupyter-widgets/controls",
            "layout": "IPY_MODEL_86b05972ede04d19add1ee7324ec39ac"
          }
        },
        "d9ac8257d4c440149cd28f5d050ece6e": {
          "model_module": "@jupyter-widgets/controls",
          "model_name": "HTMLModel",
          "state": {
            "_view_name": "HTMLView",
            "style": "IPY_MODEL_02c54655b7f440ce8d3f363084f3e8d8",
            "_dom_classes": [],
            "description": "",
            "_model_name": "HTMLModel",
            "placeholder": "​",
            "_view_module": "@jupyter-widgets/controls",
            "_model_module_version": "1.5.0",
            "value": " 8192/? [00:03&lt;00:00, 2079.45it/s]",
            "_view_count": null,
            "_view_module_version": "1.5.0",
            "description_tooltip": null,
            "_model_module": "@jupyter-widgets/controls",
            "layout": "IPY_MODEL_bbc2089ff3b041f6b0cbb1abff5fe088"
          }
        },
        "d996155c8fa74cb29283f2c24438ff02": {
          "model_module": "@jupyter-widgets/controls",
          "model_name": "ProgressStyleModel",
          "state": {
            "_view_name": "StyleView",
            "_model_name": "ProgressStyleModel",
            "description_width": "initial",
            "_view_module": "@jupyter-widgets/base",
            "_model_module_version": "1.5.0",
            "_view_count": null,
            "_view_module_version": "1.2.0",
            "bar_color": null,
            "_model_module": "@jupyter-widgets/controls"
          }
        },
        "86b05972ede04d19add1ee7324ec39ac": {
          "model_module": "@jupyter-widgets/base",
          "model_name": "LayoutModel",
          "state": {
            "_view_name": "LayoutView",
            "grid_template_rows": null,
            "right": null,
            "justify_content": null,
            "_view_module": "@jupyter-widgets/base",
            "overflow": null,
            "_model_module_version": "1.2.0",
            "_view_count": null,
            "flex_flow": null,
            "width": null,
            "min_width": null,
            "border": null,
            "align_items": null,
            "bottom": null,
            "_model_module": "@jupyter-widgets/base",
            "top": null,
            "grid_column": null,
            "overflow_y": null,
            "overflow_x": null,
            "grid_auto_flow": null,
            "grid_area": null,
            "grid_template_columns": null,
            "flex": null,
            "_model_name": "LayoutModel",
            "justify_items": null,
            "grid_row": null,
            "max_height": null,
            "align_content": null,
            "visibility": null,
            "align_self": null,
            "height": null,
            "min_height": null,
            "padding": null,
            "grid_auto_rows": null,
            "grid_gap": null,
            "max_width": null,
            "order": null,
            "_view_module_version": "1.2.0",
            "grid_template_areas": null,
            "object_position": null,
            "object_fit": null,
            "grid_auto_columns": null,
            "margin": null,
            "display": null,
            "left": null
          }
        },
        "02c54655b7f440ce8d3f363084f3e8d8": {
          "model_module": "@jupyter-widgets/controls",
          "model_name": "DescriptionStyleModel",
          "state": {
            "_view_name": "StyleView",
            "_model_name": "DescriptionStyleModel",
            "description_width": "",
            "_view_module": "@jupyter-widgets/base",
            "_model_module_version": "1.5.0",
            "_view_count": null,
            "_view_module_version": "1.2.0",
            "_model_module": "@jupyter-widgets/controls"
          }
        },
        "bbc2089ff3b041f6b0cbb1abff5fe088": {
          "model_module": "@jupyter-widgets/base",
          "model_name": "LayoutModel",
          "state": {
            "_view_name": "LayoutView",
            "grid_template_rows": null,
            "right": null,
            "justify_content": null,
            "_view_module": "@jupyter-widgets/base",
            "overflow": null,
            "_model_module_version": "1.2.0",
            "_view_count": null,
            "flex_flow": null,
            "width": null,
            "min_width": null,
            "border": null,
            "align_items": null,
            "bottom": null,
            "_model_module": "@jupyter-widgets/base",
            "top": null,
            "grid_column": null,
            "overflow_y": null,
            "overflow_x": null,
            "grid_auto_flow": null,
            "grid_area": null,
            "grid_template_columns": null,
            "flex": null,
            "_model_name": "LayoutModel",
            "justify_items": null,
            "grid_row": null,
            "max_height": null,
            "align_content": null,
            "visibility": null,
            "align_self": null,
            "height": null,
            "min_height": null,
            "padding": null,
            "grid_auto_rows": null,
            "grid_gap": null,
            "max_width": null,
            "order": null,
            "_view_module_version": "1.2.0",
            "grid_template_areas": null,
            "object_position": null,
            "object_fit": null,
            "grid_auto_columns": null,
            "margin": null,
            "display": null,
            "left": null
          }
        }
      }
    }
  },
  "cells": [
    {
      "cell_type": "markdown",
      "metadata": {
        "id": "view-in-github",
        "colab_type": "text"
      },
      "source": [
        "<a href=\"https://colab.research.google.com/github/ghlai9665/course-v3/blob/master/colab_gary_study_notes.ipynb\" target=\"_parent\"><img src=\"https://colab.research.google.com/assets/colab-badge.svg\" alt=\"Open In Colab\"/></a>"
      ]
    },
    {
      "cell_type": "markdown",
      "metadata": {
        "id": "restricted-mountain"
      },
      "source": [
        "Beginning after the matrix multiplication lesson, which has decent notes, but should take notes in a completely new Jupyter Notebook for better organization and retention.\n"
      ],
      "id": "restricted-mountain"
    },
    {
      "cell_type": "markdown",
      "metadata": {
        "id": "worse-greeting"
      },
      "source": [
        "# Forward Pass"
      ],
      "id": "worse-greeting"
    },
    {
      "cell_type": "markdown",
      "metadata": {
        "id": "suited-desert"
      },
      "source": [
        "## Imports"
      ],
      "id": "suited-desert"
    },
    {
      "cell_type": "code",
      "metadata": {
        "id": "CTMXQ635j60H"
      },
      "source": [
        "import operator\n",
        "\n",
        "def test(a,b,cmp,cname=None):\n",
        "    if cname is None: cname=cmp.__name__\n",
        "    assert cmp(a,b),f\"{cname}:\\n{a}\\n{b}\"\n",
        "\n",
        "def test_eq(a,b): test(a,b,operator.eq,'==')\n",
        "\n",
        "from pathlib import Path\n",
        "from IPython.core.debugger import set_trace\n",
        "from fastai import datasets\n",
        "import pickle, gzip, math, torch, matplotlib as mpl\n",
        "import matplotlib.pyplot as plt\n",
        "from torch import tensor\n",
        "import torch.nn.functional as F\n",
        "\n",
        "def near(a,b): return torch.allclose(a, b, rtol=1e-3, atol=1e-5)\n",
        "def test_near(a,b): test(a,b,near)\n",
        "\n",
        "# Make MNIST data work on Google Colab\n",
        "from six.moves import urllib\n",
        "opener = urllib.request.build_opener()\n",
        "opener.addheaders = [('User-agent', 'Mozilla/5.0')]\n",
        "urllib.request.install_opener(opener)"
      ],
      "id": "CTMXQ635j60H",
      "execution_count": 1,
      "outputs": []
    },
    {
      "cell_type": "code",
      "metadata": {
        "id": "specific-durham"
      },
      "source": [
        "%load_ext autoreload\n",
        "%autoreload 2\n",
        "%matplotlib inline\n",
        "\n",
        "def get_data():\n",
        "    import os\n",
        "    import torchvision.datasets as datasets\n",
        "    root = '../data'\n",
        "    if not os.path.exists(root):\n",
        "        os.mkdir(root)\n",
        "    train_set = datasets.MNIST(root=root, train=True, download=True)\n",
        "    test_set = datasets.MNIST(root=root, train=False, download=True)\n",
        "    x_train, x_valid = train_set.train_data.split([50000, 10000])\n",
        "    y_train, y_valid = train_set.train_labels.split([50000, 10000])\n",
        "    return (x_train.view(50000, -1) / 256.0), y_train.float(), (x_valid.view(10000, -1))/ 256.0, y_valid.float()\n",
        "\n",
        "# The geographic intuition for this is picturing x's around a horizontal line (mean), bring that mean down to 0,\n",
        "# then scale x's by dividing them by the standard deviation\n",
        "def normalize(x, mean, std): return (x-mean)/std"
      ],
      "id": "specific-durham",
      "execution_count": 2,
      "outputs": []
    },
    {
      "cell_type": "code",
      "metadata": {
        "id": "raised-lebanon",
        "colab": {
          "base_uri": "https://localhost:8080/",
          "height": 454,
          "referenced_widgets": [
            "53efb99779fc499cbb02dc2fa818bd70",
            "e69d42af4c244ff68158db85bab9df88",
            "70dbee041f9d469c8f8e082ddec368e2",
            "aaf23e9acc05447ba4deee80a7ab3765",
            "b0042aaf00ba4c5399c6021b021bab6a",
            "23be781018df4f0d822b94a8da3c54c2",
            "79e1b976fa9c4398a3cb2ed064342d2e",
            "42b3d5986c284a0b9a758b4cc1a4725c",
            "df83a7b9236d45ebbb6bb3b3bceec35a",
            "d99ca7287a074544bb40ec20b95bd5fc",
            "1b06950cdc8f479f98ff3b23997a4d5d",
            "3aee580b5f954bc7b5fa39203849ca59",
            "44d3109027db4f1bbf685ab3003414e8",
            "b23b101986914bcb8f51c839959f0dcf",
            "0f775c7211bb4cf397c5160278148d40",
            "894bb83acd7c4f9695add04113157a03",
            "f5440e69391c4ca18ec63cacd6e17879",
            "a9205ffe570945478027145ff44c626b",
            "21ce7e6f4590421da1f6a4d7615440c6",
            "85f62679b8ec49a2aad6a7b15b5e0bd8",
            "19f97d1e8d2f40eb8d7f146f08095c16",
            "6ea48396ad9e40239730db64cae0c25a",
            "87a335f6b06449d791f0ebee763427f2",
            "839e7294d3c3440c8a5695639a8b4738",
            "ccaa38e8eb3f42d989c646bba34e39a3",
            "5a20f678bc0a43408988b67a9c115884",
            "5eda4570725b40998c5c91abecae50dc",
            "d9ac8257d4c440149cd28f5d050ece6e",
            "d996155c8fa74cb29283f2c24438ff02",
            "86b05972ede04d19add1ee7324ec39ac",
            "02c54655b7f440ce8d3f363084f3e8d8",
            "bbc2089ff3b041f6b0cbb1abff5fe088"
          ]
        },
        "outputId": "4b49b86f-3ad0-4187-949a-7d03fed31ea7"
      },
      "source": [
        "x_train, y_train, x_valid, y_valid = get_data()"
      ],
      "id": "raised-lebanon",
      "execution_count": 3,
      "outputs": [
        {
          "output_type": "stream",
          "text": [
            "Downloading http://yann.lecun.com/exdb/mnist/train-images-idx3-ubyte.gz to ../data/MNIST/raw/train-images-idx3-ubyte.gz\n"
          ],
          "name": "stdout"
        },
        {
          "output_type": "display_data",
          "data": {
            "application/vnd.jupyter.widget-view+json": {
              "model_id": "53efb99779fc499cbb02dc2fa818bd70",
              "version_minor": 0,
              "version_major": 2
            },
            "text/plain": [
              "HBox(children=(FloatProgress(value=1.0, bar_style='info', max=1.0), HTML(value='')))"
            ]
          },
          "metadata": {
            "tags": []
          }
        },
        {
          "output_type": "stream",
          "text": [
            "Extracting ../data/MNIST/raw/train-images-idx3-ubyte.gz to ../data/MNIST/raw\n",
            "Downloading http://yann.lecun.com/exdb/mnist/train-labels-idx1-ubyte.gz to ../data/MNIST/raw/train-labels-idx1-ubyte.gz\n"
          ],
          "name": "stdout"
        },
        {
          "output_type": "display_data",
          "data": {
            "application/vnd.jupyter.widget-view+json": {
              "model_id": "df83a7b9236d45ebbb6bb3b3bceec35a",
              "version_minor": 0,
              "version_major": 2
            },
            "text/plain": [
              "HBox(children=(FloatProgress(value=1.0, bar_style='info', max=1.0), HTML(value='')))"
            ]
          },
          "metadata": {
            "tags": []
          }
        },
        {
          "output_type": "stream",
          "text": [
            "Extracting ../data/MNIST/raw/train-labels-idx1-ubyte.gz to ../data/MNIST/raw\n",
            "Downloading http://yann.lecun.com/exdb/mnist/t10k-images-idx3-ubyte.gz to ../data/MNIST/raw/t10k-images-idx3-ubyte.gz\n"
          ],
          "name": "stdout"
        },
        {
          "output_type": "display_data",
          "data": {
            "application/vnd.jupyter.widget-view+json": {
              "model_id": "f5440e69391c4ca18ec63cacd6e17879",
              "version_minor": 0,
              "version_major": 2
            },
            "text/plain": [
              "HBox(children=(FloatProgress(value=1.0, bar_style='info', max=1.0), HTML(value='')))"
            ]
          },
          "metadata": {
            "tags": []
          }
        },
        {
          "output_type": "stream",
          "text": [
            "\n",
            "Extracting ../data/MNIST/raw/t10k-images-idx3-ubyte.gz to ../data/MNIST/raw\n",
            "Downloading http://yann.lecun.com/exdb/mnist/t10k-labels-idx1-ubyte.gz to ../data/MNIST/raw/t10k-labels-idx1-ubyte.gz\n"
          ],
          "name": "stdout"
        },
        {
          "output_type": "display_data",
          "data": {
            "application/vnd.jupyter.widget-view+json": {
              "model_id": "ccaa38e8eb3f42d989c646bba34e39a3",
              "version_minor": 0,
              "version_major": 2
            },
            "text/plain": [
              "HBox(children=(FloatProgress(value=1.0, bar_style='info', max=1.0), HTML(value='')))"
            ]
          },
          "metadata": {
            "tags": []
          }
        },
        {
          "output_type": "stream",
          "text": [
            "Extracting ../data/MNIST/raw/t10k-labels-idx1-ubyte.gz to ../data/MNIST/raw\n",
            "Processing...\n",
            "Done!\n"
          ],
          "name": "stdout"
        },
        {
          "output_type": "stream",
          "text": [
            "/usr/local/lib/python3.7/dist-packages/torchvision/datasets/mnist.py:480: UserWarning: The given NumPy array is not writeable, and PyTorch does not support non-writeable tensors. This means you can write to the underlying (supposedly non-writeable) NumPy array using the tensor. You may want to copy the array to protect its data or make it writeable before converting it to a tensor. This type of warning will be suppressed for the rest of this program. (Triggered internally at  /pytorch/torch/csrc/utils/tensor_numpy.cpp:141.)\n",
            "  return torch.from_numpy(parsed.astype(m[2], copy=False)).view(*s)\n",
            "/usr/local/lib/python3.7/dist-packages/torchvision/datasets/mnist.py:58: UserWarning: train_data has been renamed data\n",
            "  warnings.warn(\"train_data has been renamed data\")\n",
            "/usr/local/lib/python3.7/dist-packages/torchvision/datasets/mnist.py:48: UserWarning: train_labels has been renamed targets\n",
            "  warnings.warn(\"train_labels has been renamed targets\")\n"
          ],
          "name": "stderr"
        }
      ]
    },
    {
      "cell_type": "code",
      "metadata": {
        "id": "sixth-broadcast",
        "colab": {
          "base_uri": "https://localhost:8080/"
        },
        "outputId": "0e9e0291-f230-487f-ec33-554dba8d864b"
      },
      "source": [
        "!pip show torchvision"
      ],
      "id": "sixth-broadcast",
      "execution_count": 4,
      "outputs": [
        {
          "output_type": "stream",
          "text": [
            "Name: torchvision\n",
            "Version: 0.8.2+cu101\n",
            "Summary: image and video datasets and models for torch deep learning\n",
            "Home-page: https://github.com/pytorch/vision\n",
            "Author: PyTorch Core Team\n",
            "Author-email: soumith@pytorch.org\n",
            "License: BSD\n",
            "Location: /usr/local/lib/python3.7/dist-packages\n",
            "Requires: pillow, torch, numpy\n",
            "Required-by: fastai\n"
          ],
          "name": "stdout"
        }
      ]
    },
    {
      "cell_type": "markdown",
      "metadata": {
        "id": "alien-healing"
      },
      "source": [
        "## Normalization"
      ],
      "id": "alien-healing"
    },
    {
      "cell_type": "markdown",
      "metadata": {
        "id": "rental-cliff"
      },
      "source": [
        "- We want mean to be 0 and standard deviation to be 1 for easier convergence, so we normalize. \n",
        "- Notice how we use train_mean and train_std to normalize valid data as well - that's because we don't want validation dataset to be in a different scale"
      ],
      "id": "rental-cliff"
    },
    {
      "cell_type": "code",
      "metadata": {
        "id": "graduate-stewart",
        "colab": {
          "base_uri": "https://localhost:8080/"
        },
        "outputId": "3368725f-7cd8-4e90-d40c-532202879f23"
      },
      "source": [
        "# before normalization\n",
        "train_mean, train_std = x_train.mean(), x_train.std()\n",
        "train_mean, train_std"
      ],
      "id": "graduate-stewart",
      "execution_count": 5,
      "outputs": [
        {
          "output_type": "execute_result",
          "data": {
            "text/plain": [
              "(tensor(0.1304), tensor(0.3073))"
            ]
          },
          "metadata": {
            "tags": []
          },
          "execution_count": 5
        }
      ]
    },
    {
      "cell_type": "code",
      "metadata": {
        "id": "weighted-living"
      },
      "source": [
        "x_train = normalize(x_train, train_mean, train_std)\n",
        "x_valid = normalize(x_valid, train_mean, train_std)"
      ],
      "id": "weighted-living",
      "execution_count": 6,
      "outputs": []
    },
    {
      "cell_type": "code",
      "metadata": {
        "id": "controlled-speech",
        "colab": {
          "base_uri": "https://localhost:8080/"
        },
        "outputId": "f0aed19f-ec89-4c1c-ee24-c7f303a5bf46"
      },
      "source": [
        "# after normalization\n",
        "train_mean, train_std = x_train.mean(), x_train.std()\n",
        "train_mean, train_std"
      ],
      "id": "controlled-speech",
      "execution_count": 7,
      "outputs": [
        {
          "output_type": "execute_result",
          "data": {
            "text/plain": [
              "(tensor(3.9162e-08), tensor(1.))"
            ]
          },
          "metadata": {
            "tags": []
          },
          "execution_count": 7
        }
      ]
    },
    {
      "cell_type": "code",
      "metadata": {
        "id": "voluntary-brief",
        "colab": {
          "base_uri": "https://localhost:8080/"
        },
        "outputId": "28e9e57d-b1d5-4dd4-9f95-c021b31d33ac"
      },
      "source": [
        "def assert_is_near_zero(a, threshold=1e-3): assert a.abs() < threshold, f\"{a} is not near zero\"\n",
        "assert_is_near_zero(train_mean)"
      ],
      "id": "voluntary-brief",
      "execution_count": 8,
      "outputs": [
        {
          "output_type": "stream",
          "text": [
            "\n"
          ],
          "name": "stdout"
        }
      ]
    },
    {
      "cell_type": "markdown",
      "metadata": {
        "id": "collect-democrat"
      },
      "source": [
        "## Get shapes"
      ],
      "id": "collect-democrat"
    },
    {
      "cell_type": "code",
      "metadata": {
        "id": "partial-nature",
        "colab": {
          "base_uri": "https://localhost:8080/"
        },
        "outputId": "dbabc52d-ea19-46df-ad30-24a57918a55c"
      },
      "source": [
        "num_samples, image_size = x_train.shape \n",
        "num_classes = y_train.max() + 1 \n",
        "nh = 50\n",
        "\n",
        "n = num_samples\n",
        "m = image_size\n",
        "c = num_classes\n",
        "\n",
        "n, m, c, nh"
      ],
      "id": "partial-nature",
      "execution_count": 9,
      "outputs": [
        {
          "output_type": "execute_result",
          "data": {
            "text/plain": [
              "(50000, 784, tensor(10.), 50)"
            ]
          },
          "metadata": {
            "tags": []
          },
          "execution_count": 9
        }
      ]
    },
    {
      "cell_type": "markdown",
      "metadata": {
        "id": "equal-service"
      },
      "source": [
        "## Intialization"
      ],
      "id": "equal-service"
    },
    {
      "cell_type": "markdown",
      "metadata": {
        "id": "pediatric-authority"
      },
      "source": [
        "- Initialization is *extremely* important. In 2019, they wrote a paper \"Fixup Initialization: Residual Learning Without Normalization\" in which they trained a 10,000 layer neural net WITHOUT normalization just by initializing everything carefully."
      ],
      "id": "pediatric-authority"
    },
    {
      "cell_type": "markdown",
      "metadata": {
        "id": "democratic-columbia"
      },
      "source": [
        "### Xavier Initialization\n",
        "\n",
        "- To perform Standard Xavier Initialization, you just divide input by the sqrt(num_input_units), which would give you a mean of 0, and standard deviation of 1 / sqrt(m)"
      ],
      "id": "democratic-columbia"
    },
    {
      "cell_type": "code",
      "metadata": {
        "id": "lucky-monroe"
      },
      "source": [
        "def lin(x, w, b): return x@w + b"
      ],
      "id": "lucky-monroe",
      "execution_count": 10,
      "outputs": []
    },
    {
      "cell_type": "code",
      "metadata": {
        "id": "mediterranean-nation",
        "colab": {
          "base_uri": "https://localhost:8080/"
        },
        "outputId": "5973316e-32f8-45b0-fb9c-75b72c53c847"
      },
      "source": [
        "# Forward pass without Initialization\n",
        "w1 = torch.randn(m, nh)\n",
        "b1 = torch.zeros(nh)\n",
        "\n",
        "t = lin(x_valid, w1, b1)\n",
        "t.mean(), t.std() # terrible, you want ~ (0,1) (mean,std)"
      ],
      "id": "mediterranean-nation",
      "execution_count": 11,
      "outputs": [
        {
          "output_type": "execute_result",
          "data": {
            "text/plain": [
              "(tensor(3.1541), tensor(26.8629))"
            ]
          },
          "metadata": {
            "tags": []
          },
          "execution_count": 11
        }
      ]
    },
    {
      "cell_type": "code",
      "metadata": {
        "id": "weekly-hurricane",
        "colab": {
          "base_uri": "https://localhost:8080/"
        },
        "outputId": "7a4d4292-c7b0-41d0-b810-264c5bece03b"
      },
      "source": [
        "# Forward pass with Standard Xavier Init\n",
        "w1 = torch.randn(m, nh) * math.sqrt(1/m)\n",
        "b1 = torch.zeros(nh)\n",
        "\n",
        "t = lin(x_valid, w1, b1)\n",
        "t.mean(), t.std() # good"
      ],
      "id": "weekly-hurricane",
      "execution_count": 12,
      "outputs": [
        {
          "output_type": "execute_result",
          "data": {
            "text/plain": [
              "(tensor(0.1336), tensor(0.9939))"
            ]
          },
          "metadata": {
            "tags": []
          },
          "execution_count": 12
        }
      ]
    },
    {
      "cell_type": "code",
      "metadata": {
        "id": "confused-privacy"
      },
      "source": [
        "assert_is_near_zero(w1.mean())\n",
        "assert_is_near_zero(w1.std() - 1/math.sqrt(m))"
      ],
      "id": "confused-privacy",
      "execution_count": 13,
      "outputs": []
    },
    {
      "cell_type": "markdown",
      "metadata": {
        "id": "fourth-reverse"
      },
      "source": [
        "### Vanishing Activation/Gradient Problem\n",
        "\n",
        "- Remember after performing the matrix multiplication, you have to pass it through relu, but each time you do that, you cut all activation values that are below 0 to 0 and thereby reduces the standard deviation. If your network is very deep, your standard deviation will keep getting reduced (possibly down to 0)"
      ],
      "id": "fourth-reverse"
    },
    {
      "cell_type": "markdown",
      "metadata": {
        "id": "jewish-arkansas"
      },
      "source": [
        "![Screen Shot 2021-03-02 at 9.20.03 PM.png](attachment:a3f59b8e-febb-4866-8494-d2338a2b0374.png)"
      ],
      "id": "jewish-arkansas"
    },
    {
      "cell_type": "code",
      "metadata": {
        "id": "double-agency",
        "colab": {
          "base_uri": "https://localhost:8080/"
        },
        "outputId": "25a6bee0-d137-4f74-b29e-b18488ee20ea"
      },
      "source": [
        "# clamp_min(n) means replace everything below n with n, in this case, relu means replacing everything negative with 0\n",
        "# always try to use PyTorch function because they're generally implemented in C for you\n",
        "def relu(x): return x.clamp_min(0.) \n",
        "\n",
        "t = relu(lin(x_valid, w1, b1)) \n",
        "t.mean(),t.std()"
      ],
      "id": "double-agency",
      "execution_count": 14,
      "outputs": [
        {
          "output_type": "execute_result",
          "data": {
            "text/plain": [
              "(tensor(0.4636), tensor(0.6180))"
            ]
          },
          "metadata": {
            "tags": []
          },
          "execution_count": 14
        }
      ]
    },
    {
      "cell_type": "markdown",
      "metadata": {
        "id": "decimal-chinese"
      },
      "source": [
        "### Kaiming Initialization\n",
        "- The problem with Xavier Initialization is that it doesn't combat the vanishing gradient problem very well. \n",
        "- Kaiming initialization is almost identical to Xavier initialization but with a 2 on top; it will keep the std around \n",
        "\n",
        "$$\\text{std} = \\sqrt{\\frac{2}{(1 + a^2) \\times \\text{fan_in}}}$$\n",
        "\n",
        "- This was introduced in the paper that described the Imagenet-winning approach from *He et al*: [Delving Deep into Rectifiers](https://arxiv.org/abs/1502.01852), which was also the first paper that claimed \"super-human performance\" on Imagenet (and, most importantly, it introduced resnets as well as Kaiming He initialization!) \n",
        "\n",
        "- So papers by competition winners are very good because they introduce MANY good ideas instead of just one tiny tweak."
      ],
      "id": "decimal-chinese"
    },
    {
      "cell_type": "code",
      "metadata": {
        "id": "level-begin",
        "colab": {
          "base_uri": "https://localhost:8080/"
        },
        "outputId": "3dad91ee-f710-455e-be10-119476304692"
      },
      "source": [
        "# Forward pass with Kaiming Initialization\n",
        "torch.manual_seed(42)\n",
        "w1 = torch.randn(m, nh) * math.sqrt(2/m)\n",
        "b1 = torch.zeros(nh)\n",
        "\n",
        "t = relu(lin(x_valid, w1, b1))\n",
        "t.mean(), t.std() "
      ],
      "id": "level-begin",
      "execution_count": 15,
      "outputs": [
        {
          "output_type": "execute_result",
          "data": {
            "text/plain": [
              "(tensor(0.6624), tensor(0.9097))"
            ]
          },
          "metadata": {
            "tags": []
          },
          "execution_count": 15
        }
      ]
    },
    {
      "cell_type": "code",
      "metadata": {
        "id": "violent-backing",
        "colab": {
          "base_uri": "https://localhost:8080/"
        },
        "outputId": "719c2148-ae5a-4a61-9936-11faa69c9f02"
      },
      "source": [
        "# Forward pass with PyTorch's Kaiming Initialization, same thing\n",
        "from torch.nn.init import kaiming_normal_\n",
        "\n",
        "w1 = torch.empty(m, nh)\n",
        "b1 = torch.zeros(nh)\n",
        "\n",
        "torch.manual_seed(42)\n",
        "kaiming_normal_(w1, mode='fan_out')\n",
        "t = relu(lin(x_valid, w1, b1))\n",
        "t.mean(), t.std() "
      ],
      "id": "violent-backing",
      "execution_count": 16,
      "outputs": [
        {
          "output_type": "execute_result",
          "data": {
            "text/plain": [
              "(tensor(0.6624), tensor(0.9097))"
            ]
          },
          "metadata": {
            "tags": []
          },
          "execution_count": 16
        }
      ]
    },
    {
      "cell_type": "markdown",
      "metadata": {
        "id": "preceding-development"
      },
      "source": [
        "- Note: Kaiming initialization is very good but notice the mean is still not zero - we have good reasons to want them to be. So we can define our own new_relu to see if it helps with normalizing the mean. It's an intuitive thing to do and papers are written from these minor tweaks. Maybe it'll help a lot in practice"
      ],
      "id": "preceding-development"
    },
    {
      "cell_type": "code",
      "metadata": {
        "id": "retired-postcard"
      },
      "source": [
        "def new_relu(x): return x.clamp_min(0.) - 0.5"
      ],
      "id": "retired-postcard",
      "execution_count": 17,
      "outputs": []
    },
    {
      "cell_type": "code",
      "metadata": {
        "id": "worldwide-recovery",
        "colab": {
          "base_uri": "https://localhost:8080/"
        },
        "outputId": "91ae807e-2d16-4eef-ee54-ce40e867b014"
      },
      "source": [
        "# The new_relu seems to help!\n",
        "torch.manual_seed(42)\n",
        "w1 = torch.randn(m,nh) * math.sqrt(2./m)\n",
        "t1 = new_relu(lin(x_valid, w1, b1))\n",
        "t1.mean(), t1.std()"
      ],
      "id": "worldwide-recovery",
      "execution_count": 18,
      "outputs": [
        {
          "output_type": "execute_result",
          "data": {
            "text/plain": [
              "(tensor(0.1624), tensor(0.9097))"
            ]
          },
          "metadata": {
            "tags": []
          },
          "execution_count": 18
        }
      ]
    },
    {
      "cell_type": "markdown",
      "metadata": {
        "id": "living-hurricane"
      },
      "source": [
        "## Train a Model"
      ],
      "id": "living-hurricane"
    },
    {
      "cell_type": "code",
      "metadata": {
        "id": "inside-marketing"
      },
      "source": [
        "torch.manual_seed(42)\n",
        "\n",
        "w1 = torch.empty(m, nh)\n",
        "b1 = torch.zeros(nh)\n",
        "w2 = torch.randn(nh,1)/math.sqrt(nh)\n",
        "b2 = torch.zeros(1)\n",
        "\n",
        "def model(x):\n",
        "    l1 = lin(x, w1, b1)\n",
        "    l2 = relu(l1)\n",
        "    l3 = lin(l2, w2, b2)\n",
        "    return l3"
      ],
      "id": "inside-marketing",
      "execution_count": 19,
      "outputs": []
    },
    {
      "cell_type": "code",
      "metadata": {
        "id": "departmental-browser",
        "colab": {
          "base_uri": "https://localhost:8080/"
        },
        "outputId": "60b26c49-d789-434a-dd3c-43868ad3419b"
      },
      "source": [
        "%timeit -n 10 _=model(x_valid)"
      ],
      "id": "departmental-browser",
      "execution_count": 20,
      "outputs": [
        {
          "output_type": "stream",
          "text": [
            "10 loops, best of 5: 7.46 ms per loop\n"
          ],
          "name": "stdout"
        }
      ]
    },
    {
      "cell_type": "code",
      "metadata": {
        "id": "stuck-omega"
      },
      "source": [
        "assert model(x_valid).shape == torch.Size((x_valid.shape[0],1))"
      ],
      "id": "stuck-omega",
      "execution_count": 21,
      "outputs": []
    },
    {
      "cell_type": "markdown",
      "metadata": {
        "id": "subject-passport"
      },
      "source": [
        "## Loss Function\n",
        "\n",
        "- We wrongly use the MSE for now just for simplicity's sake"
      ],
      "id": "subject-passport"
    },
    {
      "cell_type": "code",
      "metadata": {
        "id": "nuclear-playback"
      },
      "source": [
        "def mse(output, targ): return (output.squeeze(-1) - targ).pow(2).mean()"
      ],
      "id": "nuclear-playback",
      "execution_count": 22,
      "outputs": []
    },
    {
      "cell_type": "code",
      "metadata": {
        "id": "aerial-berry"
      },
      "source": [
        "y_train, y_valid = y_train.float(), y_valid.float()"
      ],
      "id": "aerial-berry",
      "execution_count": 23,
      "outputs": []
    },
    {
      "cell_type": "code",
      "metadata": {
        "id": "worse-ceiling"
      },
      "source": [
        "pred = model(x_train)"
      ],
      "id": "worse-ceiling",
      "execution_count": 24,
      "outputs": []
    },
    {
      "cell_type": "code",
      "metadata": {
        "id": "unavailable-illinois",
        "colab": {
          "base_uri": "https://localhost:8080/"
        },
        "outputId": "21054ff8-17de-4618-9810-2270fc13c55e"
      },
      "source": [
        "y_train.shape"
      ],
      "id": "unavailable-illinois",
      "execution_count": 25,
      "outputs": [
        {
          "output_type": "execute_result",
          "data": {
            "text/plain": [
              "torch.Size([50000])"
            ]
          },
          "metadata": {
            "tags": []
          },
          "execution_count": 25
        }
      ]
    },
    {
      "cell_type": "code",
      "metadata": {
        "id": "defensive-refund",
        "colab": {
          "base_uri": "https://localhost:8080/"
        },
        "outputId": "0f47bcd0-745e-4fd3-d838-52850eecf761"
      },
      "source": [
        "pred.shape # not the exact shape, need to squeeze in mse"
      ],
      "id": "defensive-refund",
      "execution_count": 26,
      "outputs": [
        {
          "output_type": "execute_result",
          "data": {
            "text/plain": [
              "torch.Size([50000, 1])"
            ]
          },
          "metadata": {
            "tags": []
          },
          "execution_count": 26
        }
      ]
    },
    {
      "cell_type": "code",
      "metadata": {
        "id": "retained-marketing",
        "colab": {
          "base_uri": "https://localhost:8080/"
        },
        "outputId": "bddc735d-bdc2-475b-f38d-31ba8f408cd8"
      },
      "source": [
        "mse(pred, y_train)"
      ],
      "id": "retained-marketing",
      "execution_count": 27,
      "outputs": [
        {
          "output_type": "execute_result",
          "data": {
            "text/plain": [
              "tensor(inf)"
            ]
          },
          "metadata": {
            "tags": []
          },
          "execution_count": 27
        }
      ]
    },
    {
      "cell_type": "markdown",
      "metadata": {
        "id": "alpha-vegetarian"
      },
      "source": [
        "# Backward Pass"
      ],
      "id": "alpha-vegetarian"
    },
    {
      "cell_type": "markdown",
      "metadata": {
        "id": "lonely-anime"
      },
      "source": [
        "- During backward pass, you calculate the gradient of every w1, b1, w2, b2 with respect to the loss\n",
        "- For each of the function below, we take the derivative of each layer in terms of loss, storing the result in thatlayer's .g -- in other words, x.grad stores the result of dloss/dx. Note x is the denominator, the layer.\n",
        "- DON'T RUN THIS FUNCTION LOCALLY ON CPU. IT REQUIRES GPU!"
      ],
      "id": "lonely-anime"
    },
    {
      "cell_type": "code",
      "metadata": {
        "id": "honey-complexity"
      },
      "source": [
        "def mse_grad(inp, targ):\n",
        "    # gradient of loss with respect to the previous layer, so it's pred.grad == dloss/dpred\n",
        "    inp.grad = 2. * (inp.squeeze() - targ).unsqueeze(-1) / inp.shape[0]"
      ],
      "id": "honey-complexity",
      "execution_count": 28,
      "outputs": []
    },
    {
      "cell_type": "code",
      "metadata": {
        "id": "arranged-vermont",
        "colab": {
          "base_uri": "https://localhost:8080/"
        },
        "outputId": "475b4ed6-38c9-4599-b9fb-48141214986d"
      },
      "source": [
        "def relu_grad(inp, out):\n",
        "    # inp.grad == dout/dinp\n",
        "    inp.grad = (inp > 0).float() * out.grad"
      ],
      "id": "arranged-vermont",
      "execution_count": 29,
      "outputs": [
        {
          "output_type": "stream",
          "text": [
            "\n",
            "\n"
          ],
          "name": "stdout"
        }
      ]
    },
    {
      "cell_type": "code",
      "metadata": {
        "id": "solar-albuquerque"
      },
      "source": [
        "def lin_grad(inp, out, w, b):\n",
        "    # dloss / dl\n",
        "    inp.grad = out.grad @ w.t() \n",
        "    # dloss / dw\n",
        "    w.grad = (inp.unsqueeze(-1) * out.grad.unsqueeze(1)).sum(0)\n",
        "    # dloss / db\n",
        "    b.grad = out.grad.sum(0)"
      ],
      "id": "solar-albuquerque",
      "execution_count": 30,
      "outputs": []
    },
    {
      "cell_type": "markdown",
      "metadata": {
        "id": "XiBFP-KFn7IC"
      },
      "source": [
        "# Full Pass: Forward + Backward \n"
      ],
      "id": "XiBFP-KFn7IC"
    },
    {
      "cell_type": "code",
      "metadata": {
        "id": "sixth-monkey"
      },
      "source": [
        "from torch.nn import init\n",
        "torch.manual_seed(42)\n",
        "\n",
        "# Our forward + backward loop\n",
        "\n",
        "w1 = torch.zeros(m,nh)\n",
        "init.kaiming_normal_(w1, mode='fan_out')\n",
        "b1 = torch.zeros(nh)\n",
        "w2 = torch.randn(nh,1)/math.sqrt(nh)\n",
        "b2 = torch.zeros(1)\n",
        "\n",
        "def forward_and_backward(inp, target):\n",
        "    # forward\n",
        "    l1 = lin(inp, w1, b1)\n",
        "    l2 = relu(l1)\n",
        "    pred = lin(l2, w2, b2)\n",
        "    loss = mse(pred, target)    \n",
        "    \n",
        "    # backward\n",
        "    # pred.grad = dloss/dpred\n",
        "    mse_grad(pred, target) \n",
        "    # l2.grad = dloss/dl2 = dloss/dpred * dpred/dl2\n",
        "    # w2.grad = dloss/dw2 = dloss/dpred * dpred/dw2\n",
        "    # b2.grad = dloss/db2 = dloss/dpred * dpred/db2\n",
        "    lin_grad(l2, pred, w2, b2) \n",
        "    # l1.grad = dloss/dl1 = dloss/dl2 * dl2/dl1\n",
        "    relu_grad(l1, l2)\n",
        "    # x.grad = dloss/dx = dloss/dl1 * dl1/dx\n",
        "    # w1.grad = dloss/dw1 = dloss/dl1 * dl1/dw1\n",
        "    # b1.grad = dloss/db1 = dloss/dl1 * dl1/db1\n",
        "    lin_grad(inp, l1, w1, b1)\n",
        "\n",
        "forward_and_backward(x_train, y_train)"
      ],
      "id": "sixth-monkey",
      "execution_count": 31,
      "outputs": []
    },
    {
      "cell_type": "code",
      "metadata": {
        "id": "ha6vQHRhlWxP"
      },
      "source": [
        "# pytorch's forward + backward loop\n",
        "w1_2 = w1.clone().requires_grad_(True)\n",
        "w2_2 = w2.clone().requires_grad_(True)\n",
        "b1_2 = b1.clone().requires_grad_(True)\n",
        "b2_2 = b2.clone().requires_grad_(True)\n",
        "x_train_2 = x_train.clone().requires_grad_(True)\n",
        "\n",
        "def forward(inp, targ):\n",
        "    # forward pass:\n",
        "    l1 = lin(inp, w1_2, b1_2)\n",
        "    l2 = relu(l1)\n",
        "    pred = lin(l2, w2_2, b2_2)\n",
        "    # we don't actually need the loss in backward!\n",
        "    return mse(pred, targ) \n",
        "\n",
        "loss = forward(x_train_2, y_train)\n",
        "loss.backward()"
      ],
      "id": "ha6vQHRhlWxP",
      "execution_count": 32,
      "outputs": []
    },
    {
      "cell_type": "code",
      "metadata": {
        "id": "IaK8ZibumHKV"
      },
      "source": [
        "test_near(w1_2.grad, w1.grad)\n",
        "test_near(w2_2.grad, w2.grad)\n",
        "test_near(b1_2.grad, b1.grad)\n",
        "test_near(b2_2.grad, b2.grad)\n",
        "test_near(x_train_2.grad, x_train.grad)"
      ],
      "id": "IaK8ZibumHKV",
      "execution_count": 33,
      "outputs": []
    },
    {
      "cell_type": "markdown",
      "metadata": {
        "id": "terminal-general"
      },
      "source": [
        "# Checkpoint: https://course19.fast.ai/videos/?lesson=8 , 1:58:04"
      ],
      "id": "terminal-general"
    },
    {
      "cell_type": "code",
      "metadata": {
        "id": "0vVgINo1oTqo"
      },
      "source": [
        ""
      ],
      "id": "0vVgINo1oTqo",
      "execution_count": null,
      "outputs": []
    }
  ]
}